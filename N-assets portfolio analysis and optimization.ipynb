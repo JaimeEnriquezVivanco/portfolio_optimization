{
 "cells": [
  {
   "cell_type": "markdown",
   "id": "a3fec077",
   "metadata": {},
   "source": [
    "# Portfolio return, risk and optimization"
   ]
  },
  {
   "cell_type": "markdown",
   "id": "c613d91d",
   "metadata": {},
   "source": [
    "In this notebook we will take an example portfolio, calculate its return, risk and lastly we will optimize it."
   ]
  },
  {
   "cell_type": "code",
   "execution_count": 2,
   "id": "7f75a8e0",
   "metadata": {
    "scrolled": true
   },
   "outputs": [],
   "source": [
    "import pandas as pd\n",
    "import yfinance as yf\n",
    "import numpy as np\n",
    "import matplotlib.pyplot as plt\n",
    "import pprint\n",
    "\n",
    "pd.set_option(\"display.max_rows\", 4)\n",
    "pd.set_option(\"display.max_columns\", 30)"
   ]
  },
  {
   "cell_type": "markdown",
   "id": "b832ab44",
   "metadata": {},
   "source": [
    "# What is portfolio optimization?"
   ]
  },
  {
   "cell_type": "markdown",
   "id": "d16ecf4f",
   "metadata": {},
   "source": [
    "When making a portfolio, a part (weight) of the capital must be allocated to each asset. Depending on the assets and their weights, the portfolio will have a certain amount of risk and an expected return.\n",
    "\n",
    "Portfolio optimization consists in finding weights combinations such that:\n",
    "\n",
    "a) For a target return, risk is minimized\n",
    "\n",
    "or\n",
    "\n",
    "b) For a target risk, return is maximized"
   ]
  },
  {
   "cell_type": "markdown",
   "id": "9afd2caf",
   "metadata": {},
   "source": [
    "## 0. Set-up"
   ]
  },
  {
   "cell_type": "markdown",
   "id": "351b2b8e",
   "metadata": {},
   "source": [
    "The portfolio will consist of the following assets, and it will be analyzed using the assets' daily historical data going back 5 years."
   ]
  },
  {
   "cell_type": "code",
   "execution_count": 3,
   "id": "aaee6681",
   "metadata": {
    "scrolled": true
   },
   "outputs": [],
   "source": [
    "assets = [                 \n",
    "                \"XOM\", # energy\n",
    "                \"SHW\", # materials\n",
    "                \"UPS\", # industrial\n",
    "                \"ED\", # utilities\n",
    "                \"JNJ\", # healthcare\n",
    "                \"JPM\", # financial sector\n",
    "                \"MCD\", # consumer discretionary\n",
    "                \"PG\", # # consumer staples\n",
    "                \"MSFT\", # information technology\n",
    "                \"GOOG\", # communications services\n",
    "                \"SPG\" # real state\n",
    "            ]\n",
    "n = len(assets) # quantity of assets in the portfolio\n",
    "period = \"5y\" #5 years worth of data\n",
    "interval = \"1d\" # data from every day"
   ]
  },
  {
   "cell_type": "markdown",
   "id": "817e2a2e",
   "metadata": {},
   "source": [
    "## 1. Assets analysis"
   ]
  },
  {
   "cell_type": "markdown",
   "id": "5d1c8bd3",
   "metadata": {},
   "source": [
    "### 1.1. Assets' historical prices"
   ]
  },
  {
   "cell_type": "code",
   "execution_count": 4,
   "id": "e0340171",
   "metadata": {
    "scrolled": true
   },
   "outputs": [],
   "source": [
    "def get_historical_prices():\n",
    "    '''\n",
    "    Retrieves assets' historical Adjusted-Close prices using yfinance\n",
    "     \n",
    "    Returns:\n",
    "    + historical_prices: pandas dataframe\n",
    "        Historical price data. One column per asset\n",
    "    '''\n",
    "    \n",
    "    request = \" \".join(assets)\n",
    "    historical_prices = yf.download(request, period=period, interval=interval)[\"Adj Close\"]\n",
    "    \n",
    "    # yfinance queries in alphabetical order\n",
    "    # re-order columns according to 'tickers' order\n",
    "    historical_prices = historical_prices[assets]\n",
    "    \n",
    "    return historical_prices"
   ]
  },
  {
   "cell_type": "code",
   "execution_count": 5,
   "id": "64fff8d8",
   "metadata": {
    "scrolled": true
   },
   "outputs": [
    {
     "name": "stdout",
     "output_type": "stream",
     "text": [
      "[*********************100%***********************]  11 of 11 completed\n"
     ]
    },
    {
     "data": {
      "text/html": [
       "<div>\n",
       "<style scoped>\n",
       "    .dataframe tbody tr th:only-of-type {\n",
       "        vertical-align: middle;\n",
       "    }\n",
       "\n",
       "    .dataframe tbody tr th {\n",
       "        vertical-align: top;\n",
       "    }\n",
       "\n",
       "    .dataframe thead th {\n",
       "        text-align: right;\n",
       "    }\n",
       "</style>\n",
       "<table border=\"1\" class=\"dataframe\">\n",
       "  <thead>\n",
       "    <tr style=\"text-align: right;\">\n",
       "      <th></th>\n",
       "      <th>XOM</th>\n",
       "      <th>SHW</th>\n",
       "      <th>UPS</th>\n",
       "      <th>ED</th>\n",
       "      <th>JNJ</th>\n",
       "      <th>JPM</th>\n",
       "      <th>MCD</th>\n",
       "      <th>PG</th>\n",
       "      <th>MSFT</th>\n",
       "      <th>GOOG</th>\n",
       "      <th>SPG</th>\n",
       "    </tr>\n",
       "    <tr>\n",
       "      <th>Date</th>\n",
       "      <th></th>\n",
       "      <th></th>\n",
       "      <th></th>\n",
       "      <th></th>\n",
       "      <th></th>\n",
       "      <th></th>\n",
       "      <th></th>\n",
       "      <th></th>\n",
       "      <th></th>\n",
       "      <th></th>\n",
       "      <th></th>\n",
       "    </tr>\n",
       "  </thead>\n",
       "  <tbody>\n",
       "    <tr>\n",
       "      <th>2018-06-04</th>\n",
       "      <td>62.503979</td>\n",
       "      <td>123.284935</td>\n",
       "      <td>100.154175</td>\n",
       "      <td>62.355927</td>\n",
       "      <td>106.750229</td>\n",
       "      <td>93.356148</td>\n",
       "      <td>142.572098</td>\n",
       "      <td>65.018288</td>\n",
       "      <td>96.159248</td>\n",
       "      <td>56.964500</td>\n",
       "      <td>125.320229</td>\n",
       "    </tr>\n",
       "    <tr>\n",
       "      <th>2018-06-05</th>\n",
       "      <td>62.280125</td>\n",
       "      <td>124.425850</td>\n",
       "      <td>100.017174</td>\n",
       "      <td>61.573898</td>\n",
       "      <td>106.338806</td>\n",
       "      <td>92.831039</td>\n",
       "      <td>141.913574</td>\n",
       "      <td>64.834244</td>\n",
       "      <td>96.651077</td>\n",
       "      <td>56.983002</td>\n",
       "      <td>125.559113</td>\n",
       "    </tr>\n",
       "    <tr>\n",
       "      <th>...</th>\n",
       "      <td>...</td>\n",
       "      <td>...</td>\n",
       "      <td>...</td>\n",
       "      <td>...</td>\n",
       "      <td>...</td>\n",
       "      <td>...</td>\n",
       "      <td>...</td>\n",
       "      <td>...</td>\n",
       "      <td>...</td>\n",
       "      <td>...</td>\n",
       "      <td>...</td>\n",
       "    </tr>\n",
       "    <tr>\n",
       "      <th>2023-06-01</th>\n",
       "      <td>103.360001</td>\n",
       "      <td>234.889999</td>\n",
       "      <td>167.830002</td>\n",
       "      <td>91.820000</td>\n",
       "      <td>154.539993</td>\n",
       "      <td>137.580002</td>\n",
       "      <td>286.350006</td>\n",
       "      <td>143.960007</td>\n",
       "      <td>332.579987</td>\n",
       "      <td>124.370003</td>\n",
       "      <td>103.400002</td>\n",
       "    </tr>\n",
       "    <tr>\n",
       "      <th>2023-06-02</th>\n",
       "      <td>105.760002</td>\n",
       "      <td>240.830002</td>\n",
       "      <td>170.139999</td>\n",
       "      <td>91.760002</td>\n",
       "      <td>156.970001</td>\n",
       "      <td>140.470001</td>\n",
       "      <td>289.910004</td>\n",
       "      <td>146.520004</td>\n",
       "      <td>335.399994</td>\n",
       "      <td>125.230003</td>\n",
       "      <td>106.510002</td>\n",
       "    </tr>\n",
       "  </tbody>\n",
       "</table>\n",
       "<p>1259 rows × 11 columns</p>\n",
       "</div>"
      ],
      "text/plain": [
       "                   XOM         SHW         UPS         ED         JNJ  \\\n",
       "Date                                                                    \n",
       "2018-06-04   62.503979  123.284935  100.154175  62.355927  106.750229   \n",
       "2018-06-05   62.280125  124.425850  100.017174  61.573898  106.338806   \n",
       "...                ...         ...         ...        ...         ...   \n",
       "2023-06-01  103.360001  234.889999  167.830002  91.820000  154.539993   \n",
       "2023-06-02  105.760002  240.830002  170.139999  91.760002  156.970001   \n",
       "\n",
       "                   JPM         MCD          PG        MSFT        GOOG  \\\n",
       "Date                                                                     \n",
       "2018-06-04   93.356148  142.572098   65.018288   96.159248   56.964500   \n",
       "2018-06-05   92.831039  141.913574   64.834244   96.651077   56.983002   \n",
       "...                ...         ...         ...         ...         ...   \n",
       "2023-06-01  137.580002  286.350006  143.960007  332.579987  124.370003   \n",
       "2023-06-02  140.470001  289.910004  146.520004  335.399994  125.230003   \n",
       "\n",
       "                   SPG  \n",
       "Date                    \n",
       "2018-06-04  125.320229  \n",
       "2018-06-05  125.559113  \n",
       "...                ...  \n",
       "2023-06-01  103.400002  \n",
       "2023-06-02  106.510002  \n",
       "\n",
       "[1259 rows x 11 columns]"
      ]
     },
     "execution_count": 5,
     "metadata": {},
     "output_type": "execute_result"
    }
   ],
   "source": [
    "historical_prices = get_historical_prices()\n",
    "historical_prices"
   ]
  },
  {
   "cell_type": "markdown",
   "id": "4e9b1b91",
   "metadata": {},
   "source": [
    "### 1.2. Assets' historical returns"
   ]
  },
  {
   "cell_type": "markdown",
   "id": "6c4a4112",
   "metadata": {},
   "source": [
    "Asset returns:\n",
    "\n",
    "$$\n",
    "r_{j} = \\frac {P_{t+1}-P_t}{P_t}\\ = \\frac {P_{t+1}}{P_t}\\ - 1\n",
    "$$\n",
    "\n",
    "Where:\n",
    "- r<sub>j</sub>: Return on asset j\n",
    "- P<sub>t</sub>: Price of j at time t\n",
    "- P<sub>t+1</sub>: Price of j at time t+1"
   ]
  },
  {
   "cell_type": "code",
   "execution_count": 6,
   "id": "a3e34dd4",
   "metadata": {
    "scrolled": false
   },
   "outputs": [],
   "source": [
    "def get_historical_returns(historical_prices):\n",
    "    '''\n",
    "    Calculates historical normal returns. Time delta = 1\n",
    "    \n",
    "    Parameters:\n",
    "    + historical_prices: dataframe\n",
    "        historical price data \n",
    "    \n",
    "    Returns:\n",
    "    + returns_data: dataframe\n",
    "        daily returns of each asset\n",
    "    '''\n",
    "    historical_returns = pd.DataFrame()\n",
    "    \n",
    "    for asset in assets:\n",
    "        historical_returns[asset] = historical_prices[asset] / historical_prices[asset].shift(1) - 1\n",
    "    \n",
    "    historical_returns = historical_returns.iloc[1:, :] # drop first row because it doesn't contain info\n",
    "    \n",
    "    return historical_returns"
   ]
  },
  {
   "cell_type": "code",
   "execution_count": 7,
   "id": "ed0af0cb",
   "metadata": {
    "scrolled": true
   },
   "outputs": [
    {
     "data": {
      "text/html": [
       "<div>\n",
       "<style scoped>\n",
       "    .dataframe tbody tr th:only-of-type {\n",
       "        vertical-align: middle;\n",
       "    }\n",
       "\n",
       "    .dataframe tbody tr th {\n",
       "        vertical-align: top;\n",
       "    }\n",
       "\n",
       "    .dataframe thead th {\n",
       "        text-align: right;\n",
       "    }\n",
       "</style>\n",
       "<table border=\"1\" class=\"dataframe\">\n",
       "  <thead>\n",
       "    <tr style=\"text-align: right;\">\n",
       "      <th></th>\n",
       "      <th>XOM</th>\n",
       "      <th>SHW</th>\n",
       "      <th>UPS</th>\n",
       "      <th>ED</th>\n",
       "      <th>JNJ</th>\n",
       "      <th>JPM</th>\n",
       "      <th>MCD</th>\n",
       "      <th>PG</th>\n",
       "      <th>MSFT</th>\n",
       "      <th>GOOG</th>\n",
       "      <th>SPG</th>\n",
       "    </tr>\n",
       "    <tr>\n",
       "      <th>Date</th>\n",
       "      <th></th>\n",
       "      <th></th>\n",
       "      <th></th>\n",
       "      <th></th>\n",
       "      <th></th>\n",
       "      <th></th>\n",
       "      <th></th>\n",
       "      <th></th>\n",
       "      <th></th>\n",
       "      <th></th>\n",
       "      <th></th>\n",
       "    </tr>\n",
       "  </thead>\n",
       "  <tbody>\n",
       "    <tr>\n",
       "      <th>2018-06-05</th>\n",
       "      <td>-0.003581</td>\n",
       "      <td>0.009254</td>\n",
       "      <td>-0.001368</td>\n",
       "      <td>-0.012541</td>\n",
       "      <td>-0.003854</td>\n",
       "      <td>-0.005625</td>\n",
       "      <td>-0.004619</td>\n",
       "      <td>-0.002831</td>\n",
       "      <td>0.005115</td>\n",
       "      <td>0.000325</td>\n",
       "      <td>0.001906</td>\n",
       "    </tr>\n",
       "    <tr>\n",
       "      <th>2018-06-06</th>\n",
       "      <td>0.017105</td>\n",
       "      <td>0.013165</td>\n",
       "      <td>0.001798</td>\n",
       "      <td>-0.021889</td>\n",
       "      <td>0.010784</td>\n",
       "      <td>0.023368</td>\n",
       "      <td>0.018184</td>\n",
       "      <td>0.005137</td>\n",
       "      <td>0.002936</td>\n",
       "      <td>-0.002439</td>\n",
       "      <td>0.014362</td>\n",
       "    </tr>\n",
       "    <tr>\n",
       "      <th>...</th>\n",
       "      <td>...</td>\n",
       "      <td>...</td>\n",
       "      <td>...</td>\n",
       "      <td>...</td>\n",
       "      <td>...</td>\n",
       "      <td>...</td>\n",
       "      <td>...</td>\n",
       "      <td>...</td>\n",
       "      <td>...</td>\n",
       "      <td>...</td>\n",
       "      <td>...</td>\n",
       "    </tr>\n",
       "    <tr>\n",
       "      <th>2023-06-01</th>\n",
       "      <td>0.011548</td>\n",
       "      <td>0.031214</td>\n",
       "      <td>0.004970</td>\n",
       "      <td>-0.015863</td>\n",
       "      <td>-0.003354</td>\n",
       "      <td>0.013779</td>\n",
       "      <td>0.009681</td>\n",
       "      <td>0.010246</td>\n",
       "      <td>0.012759</td>\n",
       "      <td>0.008106</td>\n",
       "      <td>-0.016643</td>\n",
       "    </tr>\n",
       "    <tr>\n",
       "      <th>2023-06-02</th>\n",
       "      <td>0.023220</td>\n",
       "      <td>0.025288</td>\n",
       "      <td>0.013764</td>\n",
       "      <td>-0.000653</td>\n",
       "      <td>0.015724</td>\n",
       "      <td>0.021006</td>\n",
       "      <td>0.012432</td>\n",
       "      <td>0.017783</td>\n",
       "      <td>0.008479</td>\n",
       "      <td>0.006915</td>\n",
       "      <td>0.030077</td>\n",
       "    </tr>\n",
       "  </tbody>\n",
       "</table>\n",
       "<p>1258 rows × 11 columns</p>\n",
       "</div>"
      ],
      "text/plain": [
       "                 XOM       SHW       UPS        ED       JNJ       JPM  \\\n",
       "Date                                                                     \n",
       "2018-06-05 -0.003581  0.009254 -0.001368 -0.012541 -0.003854 -0.005625   \n",
       "2018-06-06  0.017105  0.013165  0.001798 -0.021889  0.010784  0.023368   \n",
       "...              ...       ...       ...       ...       ...       ...   \n",
       "2023-06-01  0.011548  0.031214  0.004970 -0.015863 -0.003354  0.013779   \n",
       "2023-06-02  0.023220  0.025288  0.013764 -0.000653  0.015724  0.021006   \n",
       "\n",
       "                 MCD        PG      MSFT      GOOG       SPG  \n",
       "Date                                                          \n",
       "2018-06-05 -0.004619 -0.002831  0.005115  0.000325  0.001906  \n",
       "2018-06-06  0.018184  0.005137  0.002936 -0.002439  0.014362  \n",
       "...              ...       ...       ...       ...       ...  \n",
       "2023-06-01  0.009681  0.010246  0.012759  0.008106 -0.016643  \n",
       "2023-06-02  0.012432  0.017783  0.008479  0.006915  0.030077  \n",
       "\n",
       "[1258 rows x 11 columns]"
      ]
     },
     "execution_count": 7,
     "metadata": {},
     "output_type": "execute_result"
    }
   ],
   "source": [
    "historical_returns = get_historical_returns(historical_prices)\n",
    "historical_returns"
   ]
  },
  {
   "cell_type": "markdown",
   "id": "28f418ae",
   "metadata": {},
   "source": [
    "### 1.3. Assets' expected returns"
   ]
  },
  {
   "cell_type": "markdown",
   "id": "19098b89",
   "metadata": {},
   "source": [
    "Each asset's expected return can be obtained as the mean of each asset's historical returns"
   ]
  },
  {
   "cell_type": "code",
   "execution_count": 8,
   "id": "3e688caa",
   "metadata": {
    "scrolled": true
   },
   "outputs": [
    {
     "data": {
      "text/plain": [
       "XOM     17.625011\n",
       "SHW     19.579658\n",
       "          ...    \n",
       "GOOG    22.978432\n",
       "SPG      8.472922\n",
       "Length: 11, dtype: float64"
      ]
     },
     "execution_count": 8,
     "metadata": {},
     "output_type": "execute_result"
    }
   ],
   "source": [
    "assets_expected_returns = historical_returns.mean() # daily\n",
    "assets_expected_returns = (assets_expected_returns + 1)**250 - 1 # yearly\n",
    "assets_expected_returns *= 100 # percentage\n",
    "assets_expected_returns "
   ]
  },
  {
   "cell_type": "markdown",
   "id": "506ab8f9",
   "metadata": {},
   "source": [
    "### 1.4. Assets' historical returns' variance-covariance matrix"
   ]
  },
  {
   "cell_type": "code",
   "execution_count": 9,
   "id": "a187960e",
   "metadata": {
    "scrolled": true
   },
   "outputs": [
    {
     "data": {
      "text/html": [
       "<div>\n",
       "<style scoped>\n",
       "    .dataframe tbody tr th:only-of-type {\n",
       "        vertical-align: middle;\n",
       "    }\n",
       "\n",
       "    .dataframe tbody tr th {\n",
       "        vertical-align: top;\n",
       "    }\n",
       "\n",
       "    .dataframe thead th {\n",
       "        text-align: right;\n",
       "    }\n",
       "</style>\n",
       "<table border=\"1\" class=\"dataframe\">\n",
       "  <thead>\n",
       "    <tr style=\"text-align: right;\">\n",
       "      <th></th>\n",
       "      <th>XOM</th>\n",
       "      <th>SHW</th>\n",
       "      <th>UPS</th>\n",
       "      <th>ED</th>\n",
       "      <th>JNJ</th>\n",
       "      <th>JPM</th>\n",
       "      <th>MCD</th>\n",
       "      <th>PG</th>\n",
       "      <th>MSFT</th>\n",
       "      <th>GOOG</th>\n",
       "      <th>SPG</th>\n",
       "    </tr>\n",
       "  </thead>\n",
       "  <tbody>\n",
       "    <tr>\n",
       "      <th>XOM</th>\n",
       "      <td>0.115761</td>\n",
       "      <td>0.029292</td>\n",
       "      <td>0.035553</td>\n",
       "      <td>0.020107</td>\n",
       "      <td>0.022233</td>\n",
       "      <td>0.065192</td>\n",
       "      <td>0.031054</td>\n",
       "      <td>0.017784</td>\n",
       "      <td>0.033367</td>\n",
       "      <td>0.036708</td>\n",
       "      <td>0.083959</td>\n",
       "    </tr>\n",
       "    <tr>\n",
       "      <th>SHW</th>\n",
       "      <td>0.029292</td>\n",
       "      <td>0.091038</td>\n",
       "      <td>0.040911</td>\n",
       "      <td>0.025200</td>\n",
       "      <td>0.024494</td>\n",
       "      <td>0.042378</td>\n",
       "      <td>0.037595</td>\n",
       "      <td>0.029569</td>\n",
       "      <td>0.047473</td>\n",
       "      <td>0.043737</td>\n",
       "      <td>0.055789</td>\n",
       "    </tr>\n",
       "    <tr>\n",
       "      <th>...</th>\n",
       "      <td>...</td>\n",
       "      <td>...</td>\n",
       "      <td>...</td>\n",
       "      <td>...</td>\n",
       "      <td>...</td>\n",
       "      <td>...</td>\n",
       "      <td>...</td>\n",
       "      <td>...</td>\n",
       "      <td>...</td>\n",
       "      <td>...</td>\n",
       "      <td>...</td>\n",
       "    </tr>\n",
       "    <tr>\n",
       "      <th>GOOG</th>\n",
       "      <td>0.036708</td>\n",
       "      <td>0.043737</td>\n",
       "      <td>0.042523</td>\n",
       "      <td>0.016119</td>\n",
       "      <td>0.023096</td>\n",
       "      <td>0.046635</td>\n",
       "      <td>0.031922</td>\n",
       "      <td>0.025170</td>\n",
       "      <td>0.077279</td>\n",
       "      <td>0.100744</td>\n",
       "      <td>0.051609</td>\n",
       "    </tr>\n",
       "    <tr>\n",
       "      <th>SPG</th>\n",
       "      <td>0.083959</td>\n",
       "      <td>0.055789</td>\n",
       "      <td>0.041259</td>\n",
       "      <td>0.024066</td>\n",
       "      <td>0.022119</td>\n",
       "      <td>0.092858</td>\n",
       "      <td>0.054170</td>\n",
       "      <td>0.020367</td>\n",
       "      <td>0.047480</td>\n",
       "      <td>0.051609</td>\n",
       "      <td>0.225697</td>\n",
       "    </tr>\n",
       "  </tbody>\n",
       "</table>\n",
       "<p>11 rows × 11 columns</p>\n",
       "</div>"
      ],
      "text/plain": [
       "           XOM       SHW       UPS        ED       JNJ       JPM       MCD  \\\n",
       "XOM   0.115761  0.029292  0.035553  0.020107  0.022233  0.065192  0.031054   \n",
       "SHW   0.029292  0.091038  0.040911  0.025200  0.024494  0.042378  0.037595   \n",
       "...        ...       ...       ...       ...       ...       ...       ...   \n",
       "GOOG  0.036708  0.043737  0.042523  0.016119  0.023096  0.046635  0.031922   \n",
       "SPG   0.083959  0.055789  0.041259  0.024066  0.022119  0.092858  0.054170   \n",
       "\n",
       "            PG      MSFT      GOOG       SPG  \n",
       "XOM   0.017784  0.033367  0.036708  0.083959  \n",
       "SHW   0.029569  0.047473  0.043737  0.055789  \n",
       "...        ...       ...       ...       ...  \n",
       "GOOG  0.025170  0.077279  0.100744  0.051609  \n",
       "SPG   0.020367  0.047480  0.051609  0.225697  \n",
       "\n",
       "[11 rows x 11 columns]"
      ]
     },
     "execution_count": 9,
     "metadata": {},
     "output_type": "execute_result"
    }
   ],
   "source": [
    "variance_covariance_matrix = historical_returns.cov()\n",
    "variance_covariance_matrix *= 250 # yearly\n",
    "correlation_matrix = historical_returns.corr()\n",
    "\n",
    "variance_covariance_matrix"
   ]
  },
  {
   "cell_type": "markdown",
   "id": "a49ac02d",
   "metadata": {},
   "source": [
    "## 2. Portfolio 0: Un-optimized weights"
   ]
  },
  {
   "cell_type": "markdown",
   "id": "4e639ae7",
   "metadata": {},
   "source": [
    "### 2.1. Initial weights ##\n",
    "The initial weights can be assigned randomly, evenly or subjectively on each asset of the portfolio"
   ]
  },
  {
   "cell_type": "code",
   "execution_count": 10,
   "id": "0b8504c2",
   "metadata": {},
   "outputs": [],
   "source": [
    "def get_even_weights():\n",
    "    ''' \n",
    "    Creates even weights for each asset. Weights add-up to 1 (100%)\n",
    "        \n",
    "    Returns:\n",
    "    + weights: numpy array\n",
    "        n random weights that add up to 1\n",
    "    '''\n",
    "    weights = n * [1 / n] # n even weights that add-up to 1\n",
    "    weights = np.round(weights, 4)\n",
    "    return weights    "
   ]
  },
  {
   "cell_type": "code",
   "execution_count": 11,
   "id": "1c027aff",
   "metadata": {
    "scrolled": true
   },
   "outputs": [],
   "source": [
    "def get_random_weights():\n",
    "    ''' \n",
    "    Creates random positive weights for each asset. Weights add-up to 1 (100%)\n",
    "        \n",
    "    Returns:\n",
    "    + weights: numpy array\n",
    "        n random weights that add up to 1\n",
    "    '''\n",
    "    weights = np.random.random_sample(size = n) # sum != 1\n",
    "    weights = np.round(weights, 4)\n",
    "    weights = weights / weights.sum() # sum = 1\n",
    "   \n",
    "    return weights"
   ]
  },
  {
   "cell_type": "markdown",
   "id": "83159db7",
   "metadata": {},
   "source": [
    "### 2.2. Portfolio expected return"
   ]
  },
  {
   "cell_type": "markdown",
   "id": "7858c956",
   "metadata": {},
   "source": [
    "The Expected Return of a portfolio is can be calculated with the sum of the products of each assets' weight and expected return."
   ]
  },
  {
   "cell_type": "markdown",
   "id": "85cfbcc0",
   "metadata": {},
   "source": [
    "$$\n",
    "r_p = \\sum_{i=1}^k \\omega_i r_i\n",
    "$$"
   ]
  },
  {
   "cell_type": "markdown",
   "id": "e729fe69",
   "metadata": {},
   "source": [
    "Where:\n",
    "- w<sub>j</sub>: Weight of asset i\n",
    "- r<sub>t</sub>: Expected return of asset i"
   ]
  },
  {
   "cell_type": "code",
   "execution_count": 12,
   "id": "2cb7c0ed",
   "metadata": {
    "scrolled": true
   },
   "outputs": [],
   "source": [
    "def get_portfolio_return(weights):\n",
    "    '''\n",
    "    Calculates a portfolio's expected return for the given asset's weights.\n",
    "    \n",
    "    Parameters:\n",
    "    + weights: numpy array\n",
    "        assets' weights\n",
    "        \n",
    "    Returns:\n",
    "    + portfolio_return: float\n",
    "        The portfolio's expected return\n",
    "    '''\n",
    "    portfolio_return = (weights * assets_expected_returns).sum()\n",
    "    return portfolio_return "
   ]
  },
  {
   "cell_type": "markdown",
   "id": "e23d3b7c",
   "metadata": {},
   "source": [
    "### 2.3. Portfolio risk"
   ]
  },
  {
   "cell_type": "markdown",
   "id": "28565f77",
   "metadata": {},
   "source": [
    "Portfolio variance:"
   ]
  },
  {
   "cell_type": "markdown",
   "id": "d46292ae",
   "metadata": {},
   "source": [
    "$$\n",
    "\\sigma_p^2 = \\sum_{i=1}^{n}\n",
    "                \\sum_{j=1}^{n}\n",
    "                w_i w_j Cov(r_i, r_j)\n",
    "$$"
   ]
  },
  {
   "cell_type": "markdown",
   "id": "3a0f9283",
   "metadata": {},
   "source": [
    "Where:\n",
    "- n: number of assets\n",
    "- i, j: assets i and j\n",
    "- w<sub>i</sub>: weight of asset i\n",
    "- Cov(r<sub>i</sub>, r<sub>j</sub>): Covariance between Expected returns of assets i and j"
   ]
  },
  {
   "cell_type": "markdown",
   "id": "8af74d29",
   "metadata": {},
   "source": [
    "Or:"
   ]
  },
  {
   "cell_type": "markdown",
   "id": "fafeaf66",
   "metadata": {},
   "source": [
    "$$\n",
    "\\sigma_p^2 =w' V w\n",
    "$$\n",
    "\n",
    "- w: weights matrix\n",
    "- V: variance-covariance matrix"
   ]
  },
  {
   "cell_type": "markdown",
   "id": "13a3db5e",
   "metadata": {},
   "source": [
    "Portfolio risk (standard deviation):"
   ]
  },
  {
   "cell_type": "markdown",
   "id": "358f8ee8",
   "metadata": {},
   "source": [
    "$$\n",
    "\\sigma_p = \\sqrt{\\sigma_p^2}\n",
    "$$"
   ]
  },
  {
   "cell_type": "code",
   "execution_count": 13,
   "id": "dead1d2d",
   "metadata": {
    "scrolled": true
   },
   "outputs": [],
   "source": [
    "def get_portfolio_risk(weights):\n",
    "    '''\n",
    "    Calculates portfolio variance and then risk (standard deviation).\n",
    "    \n",
    "    Parameters:\n",
    "    + weights: numpy array\n",
    "        assets' weights\n",
    "    \n",
    "    Returns:\n",
    "    + portfolio_risk: float\n",
    "    '''\n",
    "    w = weights\n",
    "    v = variance_covariance_matrix.values # .values allows for matrix operations\n",
    "    \n",
    "    portfolio_variance = (w.dot(v)).dot(w)\n",
    "    '''\n",
    "    portfolio_variance = 0\n",
    "    for i in range(n):\n",
    "        for j in range(n):\n",
    "            ticker_i = tickers[i]\n",
    "            ticker_j = tickers[j]\n",
    "            portfolio_variance += weights[i] * weights[j] * variance_covariance_matrix[ticker_i][ticker_j]\n",
    "    '''\n",
    "    portfolio_risk = portfolio_variance ** 0.5 # standard deviation\n",
    "    portfolio_risk = portfolio_risk * 100 # percentage\n",
    "    #portfolio_risk *= 250 ** 0.5 # yearly\n",
    "\n",
    "    return portfolio_risk"
   ]
  },
  {
   "cell_type": "code",
   "execution_count": 14,
   "id": "f9f0763d",
   "metadata": {},
   "outputs": [],
   "source": [
    "def make_portfolio(weights):\n",
    "    '''\n",
    "    Creates a portfolio\n",
    "    \n",
    "    Parameters:\n",
    "    + weights: np.array\n",
    "        weights of each asset\n",
    "        \n",
    "    Returns:\n",
    "    + portfolio: dictionary\n",
    "        contains weights, risk and return\n",
    "    '''\n",
    "    weights = np.array(weights)\n",
    "    portfolio_return = get_portfolio_return(weights)\n",
    "    risk = get_portfolio_risk(weights)\n",
    "    \n",
    "    portfolio = {\n",
    "        'weights': weights,\n",
    "        'risk': risk,\n",
    "        'return': portfolio_return\n",
    "    }\n",
    "    \n",
    "    return portfolio"
   ]
  },
  {
   "cell_type": "code",
   "execution_count": 15,
   "id": "fd806e96",
   "metadata": {},
   "outputs": [],
   "source": [
    "def make_random_portfolio():\n",
    "    weights = get_random_weights()\n",
    "    portfolio_return = get_portfolio_return(weights)\n",
    "    portfolio_risk = get_portfolio_risk(weights)\n",
    "    \n",
    "    portfolio = {\n",
    "        'weights': weights,\n",
    "        'return': portfolio_return,\n",
    "        'risk': portfolio_risk\n",
    "    }\n",
    "    \n",
    "    return portfolio"
   ]
  },
  {
   "cell_type": "code",
   "execution_count": 16,
   "id": "1016525e",
   "metadata": {},
   "outputs": [],
   "source": [
    "def print_portfolio(portfolio):\n",
    "    '''\n",
    "    Small helper function\n",
    "    \n",
    "    Parameters:\n",
    "    + portfolio: portfolio dictionary\n",
    "    \n",
    "    Returns:\n",
    "    prints portfolio's risk, return and shows each asset with their weights\n",
    "    '''\n",
    "    weights = portfolio['weights']\n",
    "    risk = portfolio['risk']\n",
    "    ret = portfolio['return']\n",
    "    print(f'Risk:\\t{risk}')\n",
    "    print(f'Return:\\t{ret}')\n",
    "    df = pd.DataFrame(data=weights, index=assets, columns=['Weight'])\n",
    "    return df.transpose()"
   ]
  },
  {
   "cell_type": "code",
   "execution_count": 17,
   "id": "e9d71a80",
   "metadata": {
    "scrolled": true
   },
   "outputs": [
    {
     "name": "stdout",
     "output_type": "stream",
     "text": [
      "Portfolio 0\n",
      "Risk:\t20.208841285315064\n",
      "Return:\t17.59821955913452\n"
     ]
    },
    {
     "data": {
      "text/html": [
       "<div>\n",
       "<style scoped>\n",
       "    .dataframe tbody tr th:only-of-type {\n",
       "        vertical-align: middle;\n",
       "    }\n",
       "\n",
       "    .dataframe tbody tr th {\n",
       "        vertical-align: top;\n",
       "    }\n",
       "\n",
       "    .dataframe thead th {\n",
       "        text-align: right;\n",
       "    }\n",
       "</style>\n",
       "<table border=\"1\" class=\"dataframe\">\n",
       "  <thead>\n",
       "    <tr style=\"text-align: right;\">\n",
       "      <th></th>\n",
       "      <th>XOM</th>\n",
       "      <th>SHW</th>\n",
       "      <th>UPS</th>\n",
       "      <th>ED</th>\n",
       "      <th>JNJ</th>\n",
       "      <th>JPM</th>\n",
       "      <th>MCD</th>\n",
       "      <th>PG</th>\n",
       "      <th>MSFT</th>\n",
       "      <th>GOOG</th>\n",
       "      <th>SPG</th>\n",
       "    </tr>\n",
       "  </thead>\n",
       "  <tbody>\n",
       "    <tr>\n",
       "      <th>Weight</th>\n",
       "      <td>0.0909</td>\n",
       "      <td>0.0909</td>\n",
       "      <td>0.0909</td>\n",
       "      <td>0.0909</td>\n",
       "      <td>0.0909</td>\n",
       "      <td>0.0909</td>\n",
       "      <td>0.0909</td>\n",
       "      <td>0.0909</td>\n",
       "      <td>0.0909</td>\n",
       "      <td>0.0909</td>\n",
       "      <td>0.0909</td>\n",
       "    </tr>\n",
       "  </tbody>\n",
       "</table>\n",
       "</div>"
      ],
      "text/plain": [
       "           XOM     SHW     UPS      ED     JNJ     JPM     MCD      PG  \\\n",
       "Weight  0.0909  0.0909  0.0909  0.0909  0.0909  0.0909  0.0909  0.0909   \n",
       "\n",
       "          MSFT    GOOG     SPG  \n",
       "Weight  0.0909  0.0909  0.0909  "
      ]
     },
     "execution_count": 17,
     "metadata": {},
     "output_type": "execute_result"
    }
   ],
   "source": [
    "portfolio_0 = make_portfolio(get_even_weights())\n",
    "print('Portfolio 0')\n",
    "print_portfolio(portfolio_0)"
   ]
  },
  {
   "cell_type": "markdown",
   "id": "97235f38",
   "metadata": {},
   "source": [
    "## 2. Portfolio 1: Risk-optimized Portfolio 0"
   ]
  },
  {
   "cell_type": "markdown",
   "id": "72522f22",
   "metadata": {},
   "source": [
    "It is possible to optimize a portfolio's assets' weights such that its **return stays the same, but its risk is minimized**. This portfolio will exist in the Efficient frontier."
   ]
  },
  {
   "cell_type": "markdown",
   "id": "3d517797",
   "metadata": {},
   "source": [
    "### 2.1. Risk-optimized weights"
   ]
  },
  {
   "cell_type": "markdown",
   "id": "7a62f0f1",
   "metadata": {},
   "source": [
    "Weights that maintain an expected return but minimize risk"
   ]
  },
  {
   "cell_type": "markdown",
   "id": "30fda339",
   "metadata": {},
   "source": [
    "$$\n",
    "\\begin{split}\n",
    "w_{(nx1)} =\n",
    "\\bigr[V^{-1}\\bigr]_{(n\\times n)}\n",
    "&&\n",
    "\\bigl(\\mu, \\mathbf{1}\\bigl)_{(n\\times 2)}\n",
    "&&\n",
    "\\biggl\\{\n",
    "    \\bigl(\n",
    "        \\mu, \\mathbf{1}\n",
    "    \\bigl)^{\\mathbf{'}}_{(2\\times n)}\n",
    "    &&\n",
    "    V^{-1}_{(n\\times n)}\n",
    "    &&\n",
    "    \\bigl(\n",
    "        \\mu, \\mathbf{1}\n",
    "    \\bigl)_{(n\\times 2)}\n",
    "\\biggl\\}^{-1}_{(2\\times 2)}\n",
    "&&\n",
    "\\begin{bmatrix}\n",
    "E(R_{p}) \\\\\n",
    "1\n",
    "\\end{bmatrix}_{(2x1)}\n",
    "\\end{split}\n",
    "$$"
   ]
  },
  {
   "cell_type": "markdown",
   "id": "c081e00e",
   "metadata": {},
   "source": [
    "Where:\n",
    "- V: Variance-covariance matrix of the assets"
   ]
  },
  {
   "cell_type": "markdown",
   "id": "67037c14",
   "metadata": {},
   "source": [
    "$$\n",
    "\\begin{split}\n",
    "    \\mu=\n",
    "    &&\n",
    "    \\begin{bmatrix}\n",
    "        \\mu_1 \\\\\n",
    "        \\vdots \\\\\n",
    "        \\mu_n\n",
    "    \\end{bmatrix}\n",
    "    &&\n",
    "    =\n",
    "    &&\n",
    "    \\begin{bmatrix}\n",
    "        E(R_1) \\\\\n",
    "        \\vdots \\\\\n",
    "        E(R_n)\n",
    "    \\end{bmatrix}\n",
    "\\end{split}\n",
    "$$"
   ]
  },
  {
   "cell_type": "markdown",
   "id": "92233adb",
   "metadata": {},
   "source": [
    "$$\n",
    "\\begin{split}\n",
    "    \\begin{pmatrix}\n",
    "        \\mu, \\mathbf{1}\n",
    "    \\end{pmatrix}\n",
    "    &&\n",
    "    =\n",
    "    &&\n",
    "    \\begin{bmatrix}\n",
    "        \\mu_1 & 1 \\\\\n",
    "        \\vdots & \\vdots \\\\\n",
    "        \\mu_n & 1\n",
    "    \\end{bmatrix}\n",
    "\\end{split}\n",
    "$$"
   ]
  },
  {
   "cell_type": "code",
   "execution_count": 18,
   "id": "5b2a02d2",
   "metadata": {
    "scrolled": true
   },
   "outputs": [],
   "source": [
    "def get_risk_optimized_weights(portfolio_expected_return):\n",
    "    '''\n",
    "    Calculates risk-minimizing weights for a target portfolio return\n",
    "    \n",
    "    Parameters:\n",
    "    + portfolio_expected_return: float\n",
    "        expected return of the portfolio\n",
    "    \n",
    "    Returns:\n",
    "    + optimized_weights: np.array\n",
    "        weights that minimize risk but maintain the target return\n",
    "    '''\n",
    "    v = variance_covariance_matrix\n",
    "    v_inv = np.linalg.inv(v)\n",
    "    \n",
    "    mu = assets_expected_returns.values\n",
    "    mu_1 = np.c_[mu ,np.ones(n)]\n",
    "\n",
    "    two_two = np.dot(np.dot(mu_1.T, v_inv), mu_1)\n",
    "    two_two_inv = np.linalg.inv(two_two)\n",
    "\n",
    "    two_one = np.array([portfolio_expected_return, 1])\n",
    "\n",
    "    optimized_weights = np.dot(v_inv, mu_1)\n",
    "    optimized_weights = np.dot(optimized_weights, two_two_inv)\n",
    "    optimized_weights = np.dot(optimized_weights, two_one)\n",
    "    \n",
    "    return optimized_weights"
   ]
  },
  {
   "cell_type": "markdown",
   "id": "b6ef0b25",
   "metadata": {},
   "source": [
    "Using the formula above, we obtain Portfolio 1's weights"
   ]
  },
  {
   "cell_type": "code",
   "execution_count": 19,
   "id": "145ffa8a",
   "metadata": {
    "scrolled": true
   },
   "outputs": [
    {
     "data": {
      "text/plain": [
       "array([ 0.11323905,  0.00848227,  0.06303028,  0.09693489,  0.23929349,\n",
       "       -0.07846982,  0.25170524,  0.25172782,  0.03725115,  0.05791928,\n",
       "       -0.04111365])"
      ]
     },
     "execution_count": 19,
     "metadata": {},
     "output_type": "execute_result"
    }
   ],
   "source": [
    "get_risk_optimized_weights(portfolio_0['return'])"
   ]
  },
  {
   "cell_type": "markdown",
   "id": "6e037373",
   "metadata": {},
   "source": [
    "We can verify that the returns are the same"
   ]
  },
  {
   "cell_type": "code",
   "execution_count": 20,
   "id": "527e2d6a",
   "metadata": {},
   "outputs": [
    {
     "data": {
      "text/plain": [
       "3.552713678800501e-15"
      ]
     },
     "execution_count": 20,
     "metadata": {},
     "output_type": "execute_result"
    }
   ],
   "source": [
    "weights_1 = get_risk_optimized_weights(portfolio_0['return'])\n",
    "portfolio_0['return'] - get_portfolio_return(weights_1)"
   ]
  },
  {
   "cell_type": "markdown",
   "id": "5d4985ee",
   "metadata": {},
   "source": [
    "### 2.2. Calculate new risk"
   ]
  },
  {
   "cell_type": "code",
   "execution_count": 21,
   "id": "283c7550",
   "metadata": {
    "scrolled": true
   },
   "outputs": [
    {
     "data": {
      "text/plain": [
       "17.30720121556638"
      ]
     },
     "execution_count": 21,
     "metadata": {},
     "output_type": "execute_result"
    }
   ],
   "source": [
    "risk_1 = get_portfolio_risk(weights_1)\n",
    "risk_1"
   ]
  },
  {
   "cell_type": "code",
   "execution_count": 22,
   "id": "ff726a0c",
   "metadata": {},
   "outputs": [],
   "source": [
    "def risk_optimize_portfolio(portfolio):\n",
    "    '''\n",
    "    Minimizes a portfolio's risk but keep its return\n",
    "    \n",
    "    Parameters:\n",
    "    + portfolio: dictionary\n",
    "        portfolio to risk-optimize\n",
    "    \n",
    "    Returns:\n",
    "    + portfolio: dictionary\n",
    "        A portfolio with weights that minimize risk but maintain the original\n",
    "        portfolio's return\n",
    "    '''\n",
    "    portfolio = portfolio.copy()\n",
    "    \n",
    "    portfolio_return = portfolio['return']\n",
    "    \n",
    "    weights = get_risk_optimized_weights(portfolio_return)\n",
    "    risk = get_portfolio_risk(weights)\n",
    "    \n",
    "    portfolio['weights'] =  weights\n",
    "    portfolio['risk'] = risk\n",
    "    \n",
    "    return portfolio"
   ]
  },
  {
   "cell_type": "code",
   "execution_count": 23,
   "id": "f8efe071",
   "metadata": {},
   "outputs": [],
   "source": [
    "def make_frontier_portfolio():\n",
    "    '''\n",
    "    Makes a random portfolio an then\n",
    "    brings it to the Efficient Frontier\n",
    "    \n",
    "    Parameters:\n",
    "    None\n",
    "    \n",
    "    Returns:\n",
    "    + portfolio: dictionary\n",
    "        A portfolio that lies in a random point\n",
    "        in the efficient frontier\n",
    "    '''\n",
    "    portfolio = make_random_portfolio()\n",
    "    portfolio = risk_optimize_portfolio(portfolio)\n",
    "    \n",
    "    return portfolio"
   ]
  },
  {
   "cell_type": "code",
   "execution_count": 24,
   "id": "937a1774",
   "metadata": {},
   "outputs": [
    {
     "name": "stdout",
     "output_type": "stream",
     "text": [
      "Portfolio 1\n",
      "Risk:\t17.30720121556638\n",
      "Return:\t17.59821955913452\n"
     ]
    },
    {
     "data": {
      "text/html": [
       "<div>\n",
       "<style scoped>\n",
       "    .dataframe tbody tr th:only-of-type {\n",
       "        vertical-align: middle;\n",
       "    }\n",
       "\n",
       "    .dataframe tbody tr th {\n",
       "        vertical-align: top;\n",
       "    }\n",
       "\n",
       "    .dataframe thead th {\n",
       "        text-align: right;\n",
       "    }\n",
       "</style>\n",
       "<table border=\"1\" class=\"dataframe\">\n",
       "  <thead>\n",
       "    <tr style=\"text-align: right;\">\n",
       "      <th></th>\n",
       "      <th>XOM</th>\n",
       "      <th>SHW</th>\n",
       "      <th>UPS</th>\n",
       "      <th>ED</th>\n",
       "      <th>JNJ</th>\n",
       "      <th>JPM</th>\n",
       "      <th>MCD</th>\n",
       "      <th>PG</th>\n",
       "      <th>MSFT</th>\n",
       "      <th>GOOG</th>\n",
       "      <th>SPG</th>\n",
       "    </tr>\n",
       "  </thead>\n",
       "  <tbody>\n",
       "    <tr>\n",
       "      <th>Weight</th>\n",
       "      <td>0.113239</td>\n",
       "      <td>0.008482</td>\n",
       "      <td>0.06303</td>\n",
       "      <td>0.096935</td>\n",
       "      <td>0.239293</td>\n",
       "      <td>-0.07847</td>\n",
       "      <td>0.251705</td>\n",
       "      <td>0.251728</td>\n",
       "      <td>0.037251</td>\n",
       "      <td>0.057919</td>\n",
       "      <td>-0.041114</td>\n",
       "    </tr>\n",
       "  </tbody>\n",
       "</table>\n",
       "</div>"
      ],
      "text/plain": [
       "             XOM       SHW      UPS        ED       JNJ      JPM       MCD  \\\n",
       "Weight  0.113239  0.008482  0.06303  0.096935  0.239293 -0.07847  0.251705   \n",
       "\n",
       "              PG      MSFT      GOOG       SPG  \n",
       "Weight  0.251728  0.037251  0.057919 -0.041114  "
      ]
     },
     "execution_count": 24,
     "metadata": {},
     "output_type": "execute_result"
    }
   ],
   "source": [
    "portfolio_1 = risk_optimize_portfolio(portfolio_0)\n",
    "print('Portfolio 1')\n",
    "print_portfolio(portfolio_1)"
   ]
  },
  {
   "cell_type": "code",
   "execution_count": 25,
   "id": "44aa9abc",
   "metadata": {},
   "outputs": [
    {
     "data": {
      "text/plain": [
       "Text(0.5, 0, 'Risk (%)')"
      ]
     },
     "execution_count": 25,
     "metadata": {},
     "output_type": "execute_result"
    },
    {
     "data": {
      "image/png": "[encoded data removed]",
      "text/plain": [
       "<Figure size 640x480 with 1 Axes>"
      ]
     },
     "metadata": {},
     "output_type": "display_data"
    }
   ],
   "source": [
    "# Portfolios\n",
    "plt.scatter(portfolio_0['risk'], portfolio_0['return'])\n",
    "plt.scatter(portfolio_1['risk'], portfolio_1['return'])\n",
    "\n",
    "# Details\n",
    "plt.legend([\"Portfolio 0\" , \"Portfolio 1\"], loc = \"upper left\")\n",
    "plt.axhline(portfolio_0['return'], color='black', linewidth=.5)\n",
    "\n",
    "plt.title('Portfolios 0 and 1')\n",
    "plt.ylabel('Yearly return (%)')\n",
    "plt.xlabel('Risk (%)')"
   ]
  },
  {
   "cell_type": "markdown",
   "id": "0043934e",
   "metadata": {},
   "source": [
    "## 3. Portfolio 2: Global minimum-risk"
   ]
  },
  {
   "cell_type": "markdown",
   "id": "81c57da6",
   "metadata": {},
   "source": [
    "It is also possible to directly find the portfolio with the lowest possible variance/risk."
   ]
  },
  {
   "cell_type": "markdown",
   "id": "be7ada9a",
   "metadata": {},
   "source": [
    "Minimum-variance-portfolio return:"
   ]
  },
  {
   "cell_type": "markdown",
   "id": "dfd3bae6",
   "metadata": {},
   "source": [
    "$$\n",
    "\\begin{split}\n",
    "    \\mu_* = \n",
    "    \\frac {\\mathbf{1^{'}}V^{-1}\\mu}\n",
    "          {\\mathbf{1^{'}}V^{-1}\\mathbf 1}\n",
    "\\end{split}\n",
    "$$"
   ]
  },
  {
   "cell_type": "markdown",
   "id": "13b6d0dc",
   "metadata": {},
   "source": [
    "Global minimum-variance:"
   ]
  },
  {
   "cell_type": "markdown",
   "id": "66ab538c",
   "metadata": {},
   "source": [
    "$$\n",
    "\\begin{split}\n",
    "    \\sigma^2_* = \n",
    "    (\\mathbf{1^{'}}V^{-1}\\mathbf 1)^{-1}\n",
    "\\end{split}\n",
    "$$"
   ]
  },
  {
   "cell_type": "markdown",
   "id": "f6b512bb",
   "metadata": {},
   "source": [
    "Minimum-variance-portfolio weights:"
   ]
  },
  {
   "cell_type": "markdown",
   "id": "6ff70fcb",
   "metadata": {},
   "source": [
    "$$\n",
    "\\begin{split}\n",
    "    w_* = \n",
    "    \\frac {V^{-1}{\\mathbf 1}}\n",
    "          {\\mathbf{1^{'}}V^{-1}\\mathbf 1}\n",
    "\\end{split}\n",
    "$$"
   ]
  },
  {
   "cell_type": "markdown",
   "id": "48929b6b",
   "metadata": {},
   "source": [
    "Where:\n",
    "- &mu;: Expected returns vector\n",
    "- V: Historic returns variance-covariance matrix"
   ]
  },
  {
   "cell_type": "code",
   "execution_count": 26,
   "id": "56f41120",
   "metadata": {},
   "outputs": [],
   "source": [
    "def get_minimum_variance_return():\n",
    "    '''\n",
    "    Directly calculates the portfolio return of\n",
    "    the minimum-variance portfolio.\n",
    "    This is purely assets' dependent.\n",
    "        \n",
    "    Returns:\n",
    "    + minimum_variance_return: float\n",
    "        Portfolio return of the minimum-variance portfolio\n",
    "    '''\n",
    "    \n",
    "    ones_vector = np.array(np.ones(n))\n",
    "    v = variance_covariance_matrix\n",
    "    v_inv = np.linalg.inv(v)\n",
    "    mu = assets_expected_returns\n",
    "    \n",
    "    numerator = np.dot(np.dot(ones_vector, v_inv), mu)\n",
    "    denominator = np.dot(np.dot(ones_vector, v_inv), ones_vector)\n",
    "\n",
    "    minimum_variance_return = numerator / denominator\n",
    "    \n",
    "    return minimum_variance_return"
   ]
  },
  {
   "cell_type": "code",
   "execution_count": 27,
   "id": "e75c85ce",
   "metadata": {},
   "outputs": [],
   "source": [
    "def get_global_minimum_variance():\n",
    "    '''\n",
    "    Directly calculates the minimum variance possible\n",
    "    This is purely assets' dependent.\n",
    "    \n",
    "    Returns:\n",
    "    + global_minimum_variance: float\n",
    "        The minimum variance possible\n",
    "    '''\n",
    "    ones_vector = np.array(np.ones(n))\n",
    "    v = variance_covariance_matrix\n",
    "    v_inv = np.linalg.inv(v)\n",
    "    \n",
    "    global_minimum_variance = np.dot(np.dot(ones_vector, v_inv), ones_vector)\n",
    "    #global_minimum_variance = np.linalg.inv(global_minimum_variance)\n",
    "    global_minimum_variance = 1 / global_minimum_variance\n",
    "    \n",
    "    return global_minimum_variance"
   ]
  },
  {
   "cell_type": "code",
   "execution_count": 28,
   "id": "44a66a79",
   "metadata": {},
   "outputs": [],
   "source": [
    "def get_minimum_variance_weights():\n",
    "    '''\n",
    "    Directly calculates the weights that yield the\n",
    "    least variance\n",
    "    This is purely assets-dependent\n",
    "    \n",
    "    Returns:\n",
    "    + min_variance_weights: np.array\n",
    "        Weights for each asset that yield the\n",
    "        lowest possible variance\n",
    "    '''\n",
    "    ones_vector = np.array(np.ones(n))\n",
    "    v = variance_covariance_matrix\n",
    "    v_inv = np.linalg.inv(v)\n",
    "    \n",
    "    numerator = np.dot(v_inv, ones_vector)\n",
    "    denominator = np.dot(np.dot(ones_vector.T, v_inv), ones_vector)\n",
    "    \n",
    "    min_variance_weights = numerator / denominator\n",
    "\n",
    "    return min_variance_weights"
   ]
  },
  {
   "cell_type": "code",
   "execution_count": 29,
   "id": "be36457c",
   "metadata": {},
   "outputs": [],
   "source": [
    "def make_global_min_variance_portfolio():\n",
    "    '''\n",
    "    Finds the portfolio with the minimum variance and returns it\n",
    "    \n",
    "    Returns:\n",
    "    + portfolio: dictionary\n",
    "        The portfolio with the least-possible variance\n",
    "    '''\n",
    "    \n",
    "    portfolio = make_random_portfolio()\n",
    "    portfolio['weights'] = get_minimum_variance_weights()\n",
    "    portfolio['risk'] = get_global_minimum_variance() ** 0.5 * 100\n",
    "    portfolio['return'] = get_minimum_variance_return()\n",
    "    \n",
    "    return portfolio"
   ]
  },
  {
   "cell_type": "code",
   "execution_count": 30,
   "id": "8ef7092d",
   "metadata": {},
   "outputs": [
    {
     "name": "stdout",
     "output_type": "stream",
     "text": [
      "Portfolio 2\n",
      "Risk:\t17.00250889463263\n",
      "Return:\t14.182723190490073\n"
     ]
    },
    {
     "data": {
      "text/html": [
       "<div>\n",
       "<style scoped>\n",
       "    .dataframe tbody tr th:only-of-type {\n",
       "        vertical-align: middle;\n",
       "    }\n",
       "\n",
       "    .dataframe tbody tr th {\n",
       "        vertical-align: top;\n",
       "    }\n",
       "\n",
       "    .dataframe thead th {\n",
       "        text-align: right;\n",
       "    }\n",
       "</style>\n",
       "<table border=\"1\" class=\"dataframe\">\n",
       "  <thead>\n",
       "    <tr style=\"text-align: right;\">\n",
       "      <th></th>\n",
       "      <th>XOM</th>\n",
       "      <th>SHW</th>\n",
       "      <th>UPS</th>\n",
       "      <th>ED</th>\n",
       "      <th>JNJ</th>\n",
       "      <th>JPM</th>\n",
       "      <th>MCD</th>\n",
       "      <th>PG</th>\n",
       "      <th>MSFT</th>\n",
       "      <th>GOOG</th>\n",
       "      <th>SPG</th>\n",
       "    </tr>\n",
       "  </thead>\n",
       "  <tbody>\n",
       "    <tr>\n",
       "      <th>Weight</th>\n",
       "      <td>0.085031</td>\n",
       "      <td>0.004761</td>\n",
       "      <td>0.083619</td>\n",
       "      <td>0.135547</td>\n",
       "      <td>0.339644</td>\n",
       "      <td>-0.063035</td>\n",
       "      <td>0.240379</td>\n",
       "      <td>0.179252</td>\n",
       "      <td>-0.095358</td>\n",
       "      <td>0.111214</td>\n",
       "      <td>-0.021054</td>\n",
       "    </tr>\n",
       "  </tbody>\n",
       "</table>\n",
       "</div>"
      ],
      "text/plain": [
       "             XOM       SHW       UPS        ED       JNJ       JPM       MCD  \\\n",
       "Weight  0.085031  0.004761  0.083619  0.135547  0.339644 -0.063035  0.240379   \n",
       "\n",
       "              PG      MSFT      GOOG       SPG  \n",
       "Weight  0.179252 -0.095358  0.111214 -0.021054  "
      ]
     },
     "execution_count": 30,
     "metadata": {},
     "output_type": "execute_result"
    }
   ],
   "source": [
    "portfolio_2 = make_global_min_variance_portfolio()\n",
    "print('Portfolio 2')\n",
    "print_portfolio(portfolio_2)"
   ]
  },
  {
   "cell_type": "code",
   "execution_count": 31,
   "id": "513bfc5f",
   "metadata": {
    "scrolled": false
   },
   "outputs": [
    {
     "data": {
      "text/plain": [
       "Text(0.5, 0, 'Risk (%)')"
      ]
     },
     "execution_count": 31,
     "metadata": {},
     "output_type": "execute_result"
    },
    {
     "data": {
      "image/png": "[encoded data removed]",
      "text/plain": [
       "<Figure size 640x480 with 1 Axes>"
      ]
     },
     "metadata": {},
     "output_type": "display_data"
    }
   ],
   "source": [
    "plt.scatter(portfolio_0['risk'], portfolio_0['return'])\n",
    "plt.scatter(portfolio_1['risk'], portfolio_1['return'])\n",
    "plt.scatter(portfolio_2['risk'], portfolio_2['return'])\n",
    "\n",
    "plt.legend([\"Portfolio 0\" , \"Portfolio 1\", \"Portfolio 2\"], loc = \"lower right\")\n",
    "\n",
    "plt.axhline(portfolio_0['return'], color='black', linewidth=.5)\n",
    "\n",
    "plt.title('Portfolios 0 to 2')\n",
    "plt.ylabel('Yearly return (%)')\n",
    "plt.xlabel('Risk (%)')"
   ]
  },
  {
   "cell_type": "markdown",
   "id": "eddff20e",
   "metadata": {},
   "source": [
    "## 4. Efficient Frontier as combinations of Portfolios 1 and 2"
   ]
  },
  {
   "cell_type": "markdown",
   "id": "728a740e",
   "metadata": {},
   "source": [
    "###  4.1.  Efficient Frontier"
   ]
  },
  {
   "cell_type": "markdown",
   "id": "15e10a17",
   "metadata": {},
   "source": [
    "The efficient frontier can be drawn by linearly combining portfolios 1 and 2 and ploting those combinations"
   ]
  },
  {
   "cell_type": "code",
   "execution_count": 32,
   "id": "ca0089a5",
   "metadata": {},
   "outputs": [],
   "source": [
    "def combine_portfolios_2(portfolio_1, portfolio_2, low_proportion, high_proportion, steps):\n",
    "    '''\n",
    "    Linearly combines 2 portfolio's weights\n",
    "    \n",
    "    Parameters:\n",
    "    + portfolio_1: dictionary\n",
    "        One of the portfolios to combine\n",
    "        \n",
    "    + portfolio_2: dictionary\n",
    "        One of the portfolios to combine\n",
    "        \n",
    "    + low_proportion: number\n",
    "        Least amount by which portfolio_1's weights will be scaled.\n",
    "        \n",
    "        >0: combinations with risks higher than portfolio_1's \n",
    "         0: combinations' risks will start from portfolio_1's\n",
    "        <0: combinations with risks lower than portfolio_1's\n",
    "        \n",
    "    + high_proportion: number\n",
    "        Maximum amount by which portfolio_2's weights will be scaled.\n",
    "        \n",
    "        >1: combinations with risks higher than portfolio_2's\n",
    "         1: combinations' risks will end at portfolio_2's\n",
    "        <1: combinations's risks will end lower than portfolio_2's\n",
    "    \n",
    "    Returns:\n",
    "    + combinations_weights: list\n",
    "        list of the combinations's weights\n",
    "    \n",
    "    + combinations_risks: list\n",
    "        list of the combinations' risks\n",
    "    \n",
    "    + combinations_returns: list\n",
    "        list of the combinations' returns\n",
    "    '''\n",
    "    combinations_weights = []\n",
    "    combinations_risks = []\n",
    "    combinations_returns = []\n",
    "    \n",
    "    proportions = np.arange(low_proportion, high_proportion, steps)\n",
    "    for i in proportions:\n",
    "        proportion_1 = i\n",
    "        proportion_2 = 1 - i\n",
    "        \n",
    "        combo_weights = portfolio_1['weights'] * proportion_1 + portfolio_2['weights'] * proportion_2\n",
    "        combo_risk = get_portfolio_risk(combo_weights)\n",
    "        combo_return = get_portfolio_return(combo_weights)\n",
    "        \n",
    "        combinations_weights.append(combo_weights)\n",
    "        combinations_risks.append(combo_risk)\n",
    "        combinations_returns.append(combo_return)\n",
    "    \n",
    "    return combinations_weights, combinations_risks, combinations_returns"
   ]
  },
  {
   "cell_type": "code",
   "execution_count": 33,
   "id": "2ec9c775",
   "metadata": {},
   "outputs": [],
   "source": [
    "combos_weights, combos_risks, combos_returns = combine_portfolios_2(portfolio_1, portfolio_2, -4, 4, 0.01)"
   ]
  },
  {
   "cell_type": "code",
   "execution_count": 34,
   "id": "4f47e6d1",
   "metadata": {
    "scrolled": false
   },
   "outputs": [
    {
     "data": {
      "text/plain": [
       "Text(0.5, 0, 'Risk (%)')"
      ]
     },
     "execution_count": 34,
     "metadata": {},
     "output_type": "execute_result"
    },
    {
     "data": {
      "image/png": "[encoded data removed]",
      "text/plain": [
       "<Figure size 640x480 with 1 Axes>"
      ]
     },
     "metadata": {},
     "output_type": "display_data"
    }
   ],
   "source": [
    "plt.plot(combos_risks, combos_returns, 'black')\n",
    "\n",
    "plt.scatter(portfolio_0['risk'], portfolio_0['return'])\n",
    "plt.scatter(portfolio_1['risk'], portfolio_1['return'])\n",
    "plt.scatter(portfolio_2['risk'], portfolio_2['return'])\n",
    "\n",
    "plt.legend([\"Efficient Frontier\", \"Portfolio 0\" , \"Portfolio 1\", \"Portfolio 2\"], loc = \"upper left\")\n",
    "plt.axhline(portfolio_0['return'], color='black', linewidth=.5)\n",
    "plt.axvline(portfolio_2['risk'], color='black', linewidth=.5)\n",
    "\n",
    "plt.title('Portfolio Efficient Frontier')\n",
    "plt.ylabel('Yearly return (%)')\n",
    "plt.xlabel('Risk (%)')"
   ]
  },
  {
   "cell_type": "markdown",
   "id": "56ad798b",
   "metadata": {},
   "source": [
    "The Efficient Frontier shows the maximum and minimum returns for any given risk. For investment purposes, only the upper half is relevant, as investors are interested in maximizing their returns, rather than minimizing them."
   ]
  },
  {
   "cell_type": "markdown",
   "id": "7e28b97a",
   "metadata": {},
   "source": [
    "### 4.2. Portfolio 3: Return-optimized weights for Portfolio 0"
   ]
  },
  {
   "cell_type": "markdown",
   "id": "839285e3",
   "metadata": {},
   "source": [
    "Knowing 2 portfolios that lie on the Efficient Frontier, it is possible to formulate a combination of them such that while maintaining the risk, the return is optimized."
   ]
  },
  {
   "cell_type": "markdown",
   "id": "7ce917e6",
   "metadata": {},
   "source": [
    "$$\n",
    "P_1 w_1 + P_2 w_2 = P_3\n",
    "$$\n",
    "$$\n",
    "w_1 + w_2 = 1\n",
    "$$"
   ]
  },
  {
   "cell_type": "markdown",
   "id": "1392170c",
   "metadata": {},
   "source": [
    "For a 2-asset portfolio, the variance is calculated as:"
   ]
  },
  {
   "cell_type": "markdown",
   "id": "36220c4d",
   "metadata": {},
   "source": [
    "$$\n",
    "\\begin{split}\n",
    "\\sigma^2_{p} = \n",
    "    w^2_1\\sigma^2_1\n",
    "    + w^2_2\\sigma^2_2\n",
    "    + 2 w_1 w_2 \\sigma_{1, 2}\n",
    "\\end{split}\n",
    "$$"
   ]
  },
  {
   "cell_type": "markdown",
   "id": "483e63ab",
   "metadata": {},
   "source": [
    "Plugging in:"
   ]
  },
  {
   "cell_type": "markdown",
   "id": "c183bcc4",
   "metadata": {},
   "source": [
    "$$\n",
    "w_2 = 1 - w_1\n",
    "$$"
   ]
  },
  {
   "cell_type": "markdown",
   "id": "dbdea071",
   "metadata": {},
   "source": [
    "After expanding and factorizing w<sub>1</sub>:"
   ]
  },
  {
   "cell_type": "markdown",
   "id": "d154e838",
   "metadata": {},
   "source": [
    "$$\n",
    "0 = w^2_1(\\sigma^2_1 + \\sigma^2_2 - 2\\sigma_{1,2}) + w_1(2\\sigma_{1,2} - 2\\sigma^2_2) + (\\sigma^2_2 - \\sigma^2_p)\n",
    "$$"
   ]
  },
  {
   "cell_type": "markdown",
   "id": "ce5dd6cf",
   "metadata": {},
   "source": [
    "Plugging in all the values and solving for w<sub>1</sub> will return 2 values. We choose the one that generates a portfolio with greater return."
   ]
  },
  {
   "cell_type": "code",
   "execution_count": 35,
   "id": "26d8b863",
   "metadata": {},
   "outputs": [],
   "source": [
    "def return_optimize_portfolio(portfolio_0, frontier_portfolio_1, frontier_portfolio_2):\n",
    "    '''\n",
    "    Finds a portfolio that keeps a base portfolio's risk but with maximum return\n",
    "    \n",
    "    Parameters:\n",
    "    + portfolio_0: dictionary\n",
    "        Un-optimazided portfolio to vertically project on the Efficient Frontier\n",
    "    \n",
    "    + frontier_portfolio_1: dictionary\n",
    "        A known portfolio that lies in the Efficient Frontier\n",
    "        \n",
    "    + frontier_portfolio_2: dictionary\n",
    "        A known portfolio that lies in the Efficient Frontier\n",
    "\n",
    "    Returns:\n",
    "    A portfolio with with portfolio_0's risk but maximized returns\n",
    "    '''\n",
    "    \n",
    "    v = variance_covariance_matrix\n",
    "    \n",
    "    risk_0 = portfolio_0['risk']\n",
    "    var_0 = (portfolio_0['risk'] / 100) ** 2 # remove %\n",
    "    \n",
    "    weights_1 = frontier_portfolio_1['weights']\n",
    "    weights_2 = frontier_portfolio_2['weights']\n",
    "    \n",
    "    var_1 = (frontier_portfolio_1['risk'] / 100) ** 2 # remove %\n",
    "    var_2 = (frontier_portfolio_2['risk'] / 100) ** 2 # remove %\n",
    "    cov_1_2 = np.dot(np.dot(weights_1, v), weights_2)\n",
    "    \n",
    "    # coefficients of the quadratic ecuation\n",
    "    a = var_1 + var_2 - 2 * cov_1_2\n",
    "    b = 2 * cov_1_2 - 2 * var_2\n",
    "    c = var_2 - var_0\n",
    "    \n",
    "    # solving the cuadratic ecuation\n",
    "    positive_root = -b + (b**2 - 4 * a * c)**0.5\n",
    "    positive_root = positive_root / (2 * a)\n",
    "    positive_root_weights = weights_1 * (positive_root) + weights_2 * (1 - positive_root)\n",
    "    \n",
    "    negative_root = -b - (b**2 - 4 * a * c)**0.5\n",
    "    negative_root = negative_root / (2 * a)\n",
    "    negative_root_weights = weights_1 * (negative_root) + weights_2 * (1 - negative_root)\n",
    "    \n",
    "    # choosing which root is adecuate\n",
    "    if get_portfolio_return(positive_root_weights) > portfolio_0['return']:\n",
    "        return make_portfolio(positive_root_weights)\n",
    "    else:\n",
    "        return make_portfolio(negative_root_weights)"
   ]
  },
  {
   "cell_type": "code",
   "execution_count": 36,
   "id": "ffa10e72",
   "metadata": {},
   "outputs": [
    {
     "name": "stdout",
     "output_type": "stream",
     "text": [
      "Portfolio 3\n",
      "Risk:\t20.208841285315103\n",
      "Return:\t25.72141395422576\n"
     ]
    },
    {
     "data": {
      "text/html": [
       "<div>\n",
       "<style scoped>\n",
       "    .dataframe tbody tr th:only-of-type {\n",
       "        vertical-align: middle;\n",
       "    }\n",
       "\n",
       "    .dataframe tbody tr th {\n",
       "        vertical-align: top;\n",
       "    }\n",
       "\n",
       "    .dataframe thead th {\n",
       "        text-align: right;\n",
       "    }\n",
       "</style>\n",
       "<table border=\"1\" class=\"dataframe\">\n",
       "  <thead>\n",
       "    <tr style=\"text-align: right;\">\n",
       "      <th></th>\n",
       "      <th>XOM</th>\n",
       "      <th>SHW</th>\n",
       "      <th>UPS</th>\n",
       "      <th>ED</th>\n",
       "      <th>JNJ</th>\n",
       "      <th>JPM</th>\n",
       "      <th>MCD</th>\n",
       "      <th>PG</th>\n",
       "      <th>MSFT</th>\n",
       "      <th>GOOG</th>\n",
       "      <th>SPG</th>\n",
       "    </tr>\n",
       "  </thead>\n",
       "  <tbody>\n",
       "    <tr>\n",
       "      <th>Weight</th>\n",
       "      <td>0.180326</td>\n",
       "      <td>0.017333</td>\n",
       "      <td>0.014064</td>\n",
       "      <td>0.005101</td>\n",
       "      <td>0.000626</td>\n",
       "      <td>-0.11518</td>\n",
       "      <td>0.278644</td>\n",
       "      <td>0.4241</td>\n",
       "      <td>0.35264</td>\n",
       "      <td>-0.068834</td>\n",
       "      <td>-0.088821</td>\n",
       "    </tr>\n",
       "  </tbody>\n",
       "</table>\n",
       "</div>"
      ],
      "text/plain": [
       "             XOM       SHW       UPS        ED       JNJ      JPM       MCD  \\\n",
       "Weight  0.180326  0.017333  0.014064  0.005101  0.000626 -0.11518  0.278644   \n",
       "\n",
       "            PG     MSFT      GOOG       SPG  \n",
       "Weight  0.4241  0.35264 -0.068834 -0.088821  "
      ]
     },
     "execution_count": 36,
     "metadata": {},
     "output_type": "execute_result"
    }
   ],
   "source": [
    "portfolio_3 = return_optimize_portfolio(portfolio_0, portfolio_1, portfolio_2)\n",
    "print(\"Portfolio 3\")\n",
    "print_portfolio(portfolio_3)"
   ]
  },
  {
   "cell_type": "code",
   "execution_count": 37,
   "id": "22c57c31",
   "metadata": {},
   "outputs": [],
   "source": [
    "combos_weights, combos_risks, combos_returns = combine_portfolios_2(portfolio_1, portfolio_2, 0, 4, 0.01)"
   ]
  },
  {
   "cell_type": "code",
   "execution_count": 97,
   "id": "f769a715",
   "metadata": {},
   "outputs": [
    {
     "data": {
      "text/plain": [
       "Text(0.5, 0, 'Risk (%)')"
      ]
     },
     "execution_count": 97,
     "metadata": {},
     "output_type": "execute_result"
    },
    {
     "data": {
      "image/png": "[encoded data removed]",
      "text/plain": [
       "<Figure size 640x480 with 1 Axes>"
      ]
     },
     "metadata": {},
     "output_type": "display_data"
    }
   ],
   "source": [
    "plt.plot(combos_risks, combos_returns, 'black')\n",
    "\n",
    "plt.scatter(portfolio_0['risk'], portfolio_0['return'])\n",
    "plt.scatter(portfolio_1['risk'], portfolio_1['return'])\n",
    "plt.scatter(portfolio_2['risk'], portfolio_2['return'])\n",
    "plt.scatter(portfolio_3['risk'], portfolio_3['return'])\n",
    "\n",
    "plt.legend([\"Efficient Frontier\",\n",
    "            \"Portfolio 0\" , \"Portfolio 1\", \"Portfolio 2\", \"Portfolio 3\"\n",
    "           ], loc = \"best\")\n",
    "\n",
    "plt.axhline(portfolio_0['return'], color='black', linewidth=.5)\n",
    "plt.axvline(portfolio_0['risk'], color='black', linewidth=.5)\n",
    "\n",
    "plt.title('Portfolios 0 to 3')\n",
    "plt.ylabel('Yearly return (%)')\n",
    "plt.xlabel('Risk (%)')"
   ]
  },
  {
   "cell_type": "markdown",
   "id": "747e3935",
   "metadata": {},
   "source": [
    "## 5. Porfolio 4: Market Portfolio"
   ]
  },
  {
   "cell_type": "markdown",
   "id": "f13411e6",
   "metadata": {},
   "source": [
    "As we have learned, every portfolio has a combination of weights that generate some level of risk for a desired return. In the Efficient Frontier the risk is minimized for any desired return, but there exists a porfolio in the Efficient Frontier that yields the most return for every unit of risk taken. This is called the Market Partfolio and it has the highest Sharpe Ratio.\n",
    "\n",
    "\n",
    "\n"
   ]
  },
  {
   "cell_type": "markdown",
   "id": "a69a62c0",
   "metadata": {},
   "source": [
    "$$\n",
    "\\begin{split}\n",
    "    Sharpe Ratio = \n",
    "    \\frac {R_p - R_f}\n",
    "          {\\sigma_p}\n",
    "\\end{split}\n",
    "$$"
   ]
  },
  {
   "cell_type": "markdown",
   "id": "2999a712",
   "metadata": {},
   "source": [
    "Where:\n",
    "- R<sub>p</sub>: Portfolio expected return\n",
    "- &sigma;:<sub>p</sub>: Portfolio risk\n",
    "- R<sub>f</sub>: Risk-free rate of return. A rate that can be earned without risk. Usually short-term bonds issued by developed nations' treasuries. Developed nations are not expected to collapse short-term, so these bonds are considered risk \"free\"."
   ]
  },
  {
   "cell_type": "markdown",
   "id": "1fe3904a",
   "metadata": {},
   "source": [
    "### 5.1. Risk-free rate historical information"
   ]
  },
  {
   "cell_type": "code",
   "execution_count": 39,
   "id": "707ef50d",
   "metadata": {},
   "outputs": [
    {
     "name": "stdout",
     "output_type": "stream",
     "text": [
      "[*********************100%***********************]  1 of 1 completed\n"
     ]
    }
   ],
   "source": [
    "risk_free_asset = \"^IRX\" # 3-month T-bill\n",
    "risk_free_data_backup = yf.download(risk_free_asset, period=period, interval=interval)[\"Adj Close\"]"
   ]
  },
  {
   "cell_type": "code",
   "execution_count": 40,
   "id": "7db6db5f",
   "metadata": {},
   "outputs": [
    {
     "data": {
      "text/plain": [
       "1.5237108819475922"
      ]
     },
     "execution_count": 40,
     "metadata": {},
     "output_type": "execute_result"
    }
   ],
   "source": [
    "expected_risk_free_return = (risk_free_data_backup).mean()\n",
    "expected_risk_free_return # this is a YEARLY rate of return"
   ]
  },
  {
   "cell_type": "markdown",
   "id": "01e13653",
   "metadata": {},
   "source": [
    "### 5.2. Finding the Market Portfolio"
   ]
  },
  {
   "cell_type": "markdown",
   "id": "1ce48535",
   "metadata": {},
   "source": [
    "Market portfolio's weights:"
   ]
  },
  {
   "cell_type": "markdown",
   "id": "2c5d78c3",
   "metadata": {},
   "source": [
    "<!-- Source -->\n",
    "<!--\n",
    "https://www.chegg.com/homework-help/questions-and-answers/6-market-portfolio-weights-order-derive-formula-310-ob-serve-slope-capital-market-line-con-q58724372\n",
    "-->\n",
    "$$\n",
    "\\begin{split}\n",
    "    w_M = \n",
    "    \\frac {V^{-1}{(\\mu - R_f\\mathbf 1})}\n",
    "          {\\mathbf{1^{'}}V^{-1}{(\\mu - R_f\\mathbf 1})}\n",
    "\\end{split}\n",
    "$$"
   ]
  },
  {
   "cell_type": "code",
   "execution_count": 41,
   "id": "3ac82ae9",
   "metadata": {},
   "outputs": [],
   "source": [
    "def make_market_portfolio():\n",
    "    '''\n",
    "    Makes a portfolio with the higher Sharpe Ratio\n",
    "    \n",
    "    Returns:\n",
    "    + sharpe_portfolio: dictionary\n",
    "        a portfolio with the maximum Sharpe Ratio\n",
    "    '''\n",
    "    v = variance_covariance_matrix\n",
    "    v_inv = np.linalg.inv(v)\n",
    "\n",
    "    mu = assets_expected_returns - expected_risk_free_return\n",
    "    ones_vector = np.array(np.ones(n))\n",
    "\n",
    "    numerator = np.dot(mu, v_inv)\n",
    "    denominator = np.dot(np.dot(ones_vector, v_inv), mu)\n",
    "\n",
    "    market_portfolio_weights = numerator / denominator\n",
    "    \n",
    "    market_portfolio = make_portfolio(market_portfolio_weights)\n",
    "    \n",
    "    return market_portfolio"
   ]
  },
  {
   "cell_type": "code",
   "execution_count": 42,
   "id": "35f8196d",
   "metadata": {},
   "outputs": [
    {
     "name": "stdout",
     "output_type": "stream",
     "text": [
      "Portfolio 4\n",
      "Risk:\t29.513212521976634\n",
      "Return:\t39.66600151493942\n"
     ]
    },
    {
     "data": {
      "text/html": [
       "<div>\n",
       "<style scoped>\n",
       "    .dataframe tbody tr th:only-of-type {\n",
       "        vertical-align: middle;\n",
       "    }\n",
       "\n",
       "    .dataframe tbody tr th {\n",
       "        vertical-align: top;\n",
       "    }\n",
       "\n",
       "    .dataframe thead th {\n",
       "        text-align: right;\n",
       "    }\n",
       "</style>\n",
       "<table border=\"1\" class=\"dataframe\">\n",
       "  <thead>\n",
       "    <tr style=\"text-align: right;\">\n",
       "      <th></th>\n",
       "      <th>XOM</th>\n",
       "      <th>SHW</th>\n",
       "      <th>UPS</th>\n",
       "      <th>ED</th>\n",
       "      <th>JNJ</th>\n",
       "      <th>JPM</th>\n",
       "      <th>MCD</th>\n",
       "      <th>PG</th>\n",
       "      <th>MSFT</th>\n",
       "      <th>GOOG</th>\n",
       "      <th>SPG</th>\n",
       "    </tr>\n",
       "  </thead>\n",
       "  <tbody>\n",
       "    <tr>\n",
       "      <th>Weight</th>\n",
       "      <td>0.295491</td>\n",
       "      <td>0.032526</td>\n",
       "      <td>-0.069992</td>\n",
       "      <td>-0.152543</td>\n",
       "      <td>-0.409079</td>\n",
       "      <td>-0.178197</td>\n",
       "      <td>0.324887</td>\n",
       "      <td>0.720001</td>\n",
       "      <td>0.894049</td>\n",
       "      <td>-0.286423</td>\n",
       "      <td>-0.170718</td>\n",
       "    </tr>\n",
       "  </tbody>\n",
       "</table>\n",
       "</div>"
      ],
      "text/plain": [
       "             XOM       SHW       UPS        ED       JNJ       JPM       MCD  \\\n",
       "Weight  0.295491  0.032526 -0.069992 -0.152543 -0.409079 -0.178197  0.324887   \n",
       "\n",
       "              PG      MSFT      GOOG       SPG  \n",
       "Weight  0.720001  0.894049 -0.286423 -0.170718  "
      ]
     },
     "execution_count": 42,
     "metadata": {},
     "output_type": "execute_result"
    }
   ],
   "source": [
    "portfolio_4 = make_market_portfolio()\n",
    "print('Portfolio 4')\n",
    "print_portfolio(portfolio_4)"
   ]
  },
  {
   "cell_type": "code",
   "execution_count": 43,
   "id": "41236227",
   "metadata": {},
   "outputs": [
    {
     "data": {
      "text/plain": [
       "Text(0.5, 0, 'Risk (%)')"
      ]
     },
     "execution_count": 43,
     "metadata": {},
     "output_type": "execute_result"
    },
    {
     "data": {
      "image/png": "[encoded data removed]",
      "text/plain": [
       "<Figure size 640x480 with 1 Axes>"
      ]
     },
     "metadata": {},
     "output_type": "display_data"
    }
   ],
   "source": [
    "combos_weights, combos_risks, combos_returns = combine_portfolios_2(portfolio_2, portfolio_4, 0, 1.5, 0.01)\n",
    "\n",
    "mkt_risks = np.array([0, combos_risks[0]])\n",
    "\n",
    "plt.plot(combos_risks, combos_returns, 'black') # efficient frontier\n",
    "\n",
    "plt.scatter(portfolio_2['risk'], portfolio_2['return'])\n",
    "plt.scatter(portfolio_4['risk'], portfolio_4['return'])\n",
    "\n",
    "plt.legend([\"Efficient Frontier\",\n",
    "            \"Market Line\",\n",
    "            \"Portfolio 2\", \"Portfolio 4\"\n",
    "           ], loc = \"best\")\n",
    "\n",
    "plt.axhline(portfolio_2['return'], color='black', linewidth=.5)\n",
    "\n",
    "plt.axvline(portfolio_2['risk'], color='black', linewidth=.5)\n",
    "plt.axhline(expected_risk_free_return, color='black', linewidth=.5)\n",
    "\n",
    "plt.yticks(list(plt.yticks()[0]) + [expected_risk_free_return])\n",
    "\n",
    "plt.title('Market Portfolio')\n",
    "plt.ylabel('Yearly return (%)')\n",
    "plt.xlabel('Risk (%)')"
   ]
  },
  {
   "cell_type": "markdown",
   "id": "7ad9a2c7",
   "metadata": {},
   "source": [
    "### 5.3. Capital Allocation Line"
   ]
  },
  {
   "cell_type": "markdown",
   "id": "0bb15158",
   "metadata": {},
   "source": [
    "The Capital Allocation Line (CAL) or Market Line is tangential to the Efficient Frontier on the Market Portfolio. It can be thought of as the different ways in which capital can be split between the Risk-free asset and the Market Portfolio (where it will be sub-divided between the porfolio's assets)."
   ]
  },
  {
   "cell_type": "markdown",
   "id": "d0c2ead9",
   "metadata": {},
   "source": [
    "For a 2-asset portfolio, the variance is calculated as:"
   ]
  },
  {
   "cell_type": "markdown",
   "id": "a492e445",
   "metadata": {},
   "source": [
    "$$\n",
    "\\begin{split}\n",
    "\\sigma^2_{p} = \n",
    "    w^2_1\\sigma^2_1\n",
    "    + w^2_2\\sigma^2_2\n",
    "    + 2 w_1 w_2 \\sigma_{1, 2}\n",
    "\\end{split}\n",
    "$$"
   ]
  },
  {
   "cell_type": "markdown",
   "id": "66f3701d",
   "metadata": {},
   "source": [
    "The risk-free rate is considered to be constant, so it's variance and covariance are 0"
   ]
  },
  {
   "cell_type": "markdown",
   "id": "fbaa49fb",
   "metadata": {},
   "source": [
    "$$\n",
    "\\begin{split}\n",
    "\\sigma^2_{p} = \n",
    "    w^2_1\\sigma^2_1\n",
    "\\end{split}\n",
    "$$"
   ]
  },
  {
   "cell_type": "markdown",
   "id": "b82b708e",
   "metadata": {},
   "source": [
    "$$\n",
    "\\begin{split}\n",
    "\\sigma_{p} = \n",
    "    w_1\\sigma_1\n",
    "\\end{split}\n",
    "$$"
   ]
  },
  {
   "cell_type": "markdown",
   "id": "7acd4d88",
   "metadata": {},
   "source": [
    "Where:\n",
    "- &sigma;<sub>p</sub>: Total risk of the combination of the Market portfolio and the risk-free asset\n",
    "- w<sub>1</sub>: Capital allocated to the Market portfolio\n",
    "- &sigma;<sub>1</sub>: Risk of the market portfolio"
   ]
  },
  {
   "cell_type": "markdown",
   "id": "9bbb9a0b",
   "metadata": {},
   "source": [
    "For a 2-asset portfolio, the variance is calculated as:"
   ]
  },
  {
   "cell_type": "markdown",
   "id": "7432e506",
   "metadata": {},
   "source": [
    "$$\n",
    "r_p = w_1 r_1 + w_2 r_2\n",
    "$$\n",
    "$$\n",
    "w_1 + w_2 = 1\n",
    "$$"
   ]
  },
  {
   "cell_type": "markdown",
   "id": "8c0616ed",
   "metadata": {},
   "source": [
    "Where:\n",
    "- r<sub>p</sub>: Total return of the combination of the Market portfolio and the risk-free asset\n",
    "- w<sub>1</sub>: Capital allocated to the Market portfolio\n",
    "- w<sub>2</sub>: Capital allocated to the risk-free asset\n",
    "- r<sub>1</sub>: Expected return of the market portfolio\n",
    "- r<sub>2</sub>: Expected return of the risk-free asset"
   ]
  },
  {
   "cell_type": "code",
   "execution_count": 44,
   "id": "35cc06b2",
   "metadata": {},
   "outputs": [],
   "source": [
    "def get_cal_slope(market_portfolio):\n",
    "    delta_y = market_portfolio['return'] - expected_risk_free_return\n",
    "    delta_x = market_portfolio['risk'] - 0\n",
    "    \n",
    "    cal_slope = delta_y / delta_x\n",
    "    return cal_slope"
   ]
  },
  {
   "cell_type": "code",
   "execution_count": 45,
   "id": "7f680d6c",
   "metadata": {},
   "outputs": [
    {
     "data": {
      "text/plain": [
       "Text(0.5, 0, 'Risk (%)')"
      ]
     },
     "execution_count": 45,
     "metadata": {},
     "output_type": "execute_result"
    },
    {
     "data": {
      "image/png": "[encoded data removed]",
      "text/plain": [
       "<Figure size 640x480 with 1 Axes>"
      ]
     },
     "metadata": {},
     "output_type": "display_data"
    }
   ],
   "source": [
    "combos_weights, combos_risks, combos_returns = combine_portfolios_2(portfolio_2, portfolio_4, 0, 1.5, 0.01)\n",
    "\n",
    "mkt_risks = np.array([0, combos_risks[0]])\n",
    "mkt_returns = expected_risk_free_return + mkt_risks * get_cal_slope(portfolio_4)\n",
    "\n",
    "plt.plot(combos_risks, combos_returns, 'black') # efficient frontier\n",
    "plt.plot(mkt_risks, mkt_returns) # market line\n",
    "\n",
    "plt.scatter(portfolio_2['risk'], portfolio_2['return'])\n",
    "plt.scatter(portfolio_4['risk'], portfolio_4['return'])\n",
    "\n",
    "plt.legend([\"Efficient Frontier\",\n",
    "            \"Market Line\",\n",
    "            \"Portfolio 2\", \"Portfolio 4\"\n",
    "           ], loc = \"best\")\n",
    "\n",
    "plt.axhline(portfolio_2['return'], color='black', linewidth=.5)\n",
    "\n",
    "plt.axvline(portfolio_2['risk'], color='black', linewidth=.5)\n",
    "plt.axhline(expected_risk_free_return, color='black', linewidth=.5)\n",
    "\n",
    "plt.yticks(list(plt.yticks()[0]) + [expected_risk_free_return])\n",
    "plt.axis([0, 1.05 * portfolio_4['risk'], 0, 1.05 * portfolio_4['return']])\n",
    "\n",
    "plt.title('Market Portfolio and CAL')\n",
    "plt.ylabel('Yearly return (%)')\n",
    "plt.xlabel('Risk (%)')"
   ]
  },
  {
   "cell_type": "markdown",
   "id": "e3b63127",
   "metadata": {},
   "source": [
    "The benefits of this further diversification are greater risk minimization or return maximization. For example, it is possible to find a distribution of capital that has less risk than the minimum-variance portfolio, but keeps its return.\n",
    "\n",
    "It also solves the problem of investors incurring in more risk if they targeted a return lower than the minimum-variance portfolio's return. "
   ]
  },
  {
   "cell_type": "markdown",
   "id": "cc08a360",
   "metadata": {},
   "source": [
    "### 5.4. Distributing capital between the Market portfolio and the risk-free asset to maximize return"
   ]
  },
  {
   "cell_type": "markdown",
   "id": "b898af7a",
   "metadata": {},
   "source": [
    "$$\n",
    "\\begin{split}\n",
    "\\sigma_{p} = \n",
    "    w_1\\sigma_1\n",
    "\\end{split}\n",
    "$$\n",
    "$$\n",
    "\\begin{split}\n",
    "w_1 = \\sigma_1 / \\sigma_{p}\n",
    "\\end{split}\n",
    "$$"
   ]
  },
  {
   "cell_type": "code",
   "execution_count": 46,
   "id": "75122fd7",
   "metadata": {},
   "outputs": [],
   "source": [
    "def cal_return_optimize(risk, market_portfolio):\n",
    "    w_1 = risk / market_portfolio['risk'] # weight for the market_portfolio\n",
    "    w_2 = (1 - w_1) # weight for the risk-free asset\n",
    "    \n",
    "    combo_return = w_1 * market_portfolio['return'] + w_2 * expected_risk_free_return\n",
    "    #combo_risk = w_1 * market_portfolio['risk']\n",
    "    \n",
    "    print(f\"With the following capital allocations:\")\n",
    "    print(f\"Market portfolio:\\t{round(w_1, 4)*100} %\")\n",
    "    print(f\"Risk-free asset:\\t{round(w_2, 4)*100} %\")\n",
    "    print(f\"Risk is kept at:\\t{round(risk, 2)} %\")\n",
    "    print(f\"New return:\\t\\t{round(combo_return, 2)} %\")\n",
    "    \n",
    "    return risk, combo_return"
   ]
  },
  {
   "cell_type": "code",
   "execution_count": 47,
   "id": "bb47c591",
   "metadata": {},
   "outputs": [
    {
     "name": "stdout",
     "output_type": "stream",
     "text": [
      "With the following capital allocations:\n",
      "Market portfolio:\t57.60999999999999 %\n",
      "Risk-free asset:\t42.39 %\n",
      "Risk is kept at:\t17.0 %\n",
      "New return:\t\t23.5 %\n"
     ]
    }
   ],
   "source": [
    "cal_return_optimization_risk,  cal_return_optimization_return = cal_return_optimize(portfolio_2['risk'], portfolio_4)"
   ]
  },
  {
   "cell_type": "markdown",
   "id": "a7659899",
   "metadata": {},
   "source": [
    "### 5.5. Distributing capital between the Market portfolio and the risk-free asset to minimize risk"
   ]
  },
  {
   "cell_type": "markdown",
   "id": "b237aa90",
   "metadata": {},
   "source": [
    "$$\n",
    "r_p = w_1 r_1 + w_2 r_2\n",
    "$$\n",
    "$$\n",
    "w_1 + w_2 = 1\n",
    "$$\n",
    "$$\n",
    "w_1 = \\frac{r_p - r_2}{r_1 - r_2}\n",
    "$$"
   ]
  },
  {
   "cell_type": "code",
   "execution_count": 48,
   "id": "2ad43d6f",
   "metadata": {},
   "outputs": [],
   "source": [
    "def cal_risk_optimize(target_return, market_portfolio):\n",
    "    w_1 = (target_return - expected_risk_free_return) / (market_portfolio['return'] - expected_risk_free_return)  # weight for the market_portfolio\n",
    "    w_2 = (1 - w_1) # weight for the risk-free asset\n",
    "    \n",
    "    combo_return = w_1 * market_portfolio['return'] + w_2 * expected_risk_free_return\n",
    "    combo_risk = w_1 * market_portfolio['risk']\n",
    "    \n",
    "    print(f\"With the following capital allocations:\")\n",
    "    print(f\"Market portfolio:\\t{round(w_1, 4)*100} %\")\n",
    "    print(f\"Risk-free asset:\\t{round(w_2, 4)*100} %\")\n",
    "    print(f\"New risk:\\t\\t{round(combo_risk, 2)} %\")\n",
    "    print(f\"Return stays at:\\t{round(target_return, 2)} %\")\n",
    "    return combo_risk, combo_return"
   ]
  },
  {
   "cell_type": "code",
   "execution_count": 49,
   "id": "13f0169b",
   "metadata": {},
   "outputs": [
    {
     "name": "stdout",
     "output_type": "stream",
     "text": [
      "With the following capital allocations:\n",
      "Market portfolio:\t33.19 %\n",
      "Risk-free asset:\t66.81 %\n",
      "New risk:\t\t9.8 %\n",
      "Return stays at:\t14.18 %\n"
     ]
    }
   ],
   "source": [
    "cal_risk_optimization_risk, cal_risk_optimization_return = cal_risk_optimize(portfolio_2['return'], portfolio_4)"
   ]
  },
  {
   "cell_type": "code",
   "execution_count": 51,
   "id": "874ae610",
   "metadata": {},
   "outputs": [
    {
     "data": {
      "text/plain": [
       "Text(0.5, 0, 'Risk (%)')"
      ]
     },
     "execution_count": 51,
     "metadata": {},
     "output_type": "execute_result"
    },
    {
     "data": {
      "image/png": "[encoded data removed]",
      "text/plain": [
       "<Figure size 640x480 with 1 Axes>"
      ]
     },
     "metadata": {},
     "output_type": "display_data"
    }
   ],
   "source": [
    "combos_weights, combos_risks, combos_returns = combine_portfolios_2(portfolio_2, portfolio_4, 0, 1.5, 0.01)\n",
    "\n",
    "mkt_risks = np.array([0, combos_risks[0]])\n",
    "mkt_returns = expected_risk_free_return + mkt_risks * get_cal_slope(portfolio_4)\n",
    "\n",
    "plt.plot(combos_risks, combos_returns, 'black') # efficient frontier\n",
    "plt.plot(mkt_risks, mkt_returns) # market line\n",
    "\n",
    "plt.scatter(portfolio_2['risk'], portfolio_2['return'])\n",
    "plt.scatter(portfolio_4['risk'], portfolio_4['return'])\n",
    "plt.scatter(cal_return_optimization_risk, cal_return_optimization_return)\n",
    "plt.scatter(cal_risk_optimization_risk, cal_risk_optimization_return)\n",
    "\n",
    "plt.legend([\"Efficient Frontier\",\n",
    "            \"Market Line\",\n",
    "            \"Portfolio 2\", \"Portfolio 4\",\n",
    "            \"Return optimization\", \"Risk minimization\"\n",
    "           ], loc = \"best\")\n",
    "\n",
    "plt.axhline(portfolio_2['return'], color='black', linewidth=.5)\n",
    "\n",
    "plt.axvline(portfolio_2['risk'], color='black', linewidth=.5)\n",
    "plt.axhline(expected_risk_free_return, color='black', linewidth=.5)\n",
    "\n",
    "plt.yticks(list(plt.yticks()[0]) + [expected_risk_free_return])\n",
    "#plt.axis([0, 1.05 * portfolio_4['risk'], 0, 1.05 * portfolio_4['return']])\n",
    "\n",
    "plt.title('Market Portfolio and CAL')\n",
    "plt.ylabel('Yearly return (%)')\n",
    "plt.xlabel('Risk (%)')"
   ]
  },
  {
   "cell_type": "markdown",
   "id": "342c1855",
   "metadata": {},
   "source": [
    "## 6. Approximating the Efficient Frontier with Monte Carlo simulation"
   ]
  },
  {
   "cell_type": "code",
   "execution_count": 52,
   "id": "8510b986",
   "metadata": {},
   "outputs": [],
   "source": [
    "random_risks = []\n",
    "random_returns = []\n",
    "\n",
    "for i in range(10_000):    \n",
    "    portfolio = make_random_portfolio()\n",
    "    risk = portfolio['risk']\n",
    "    portfolio_return = portfolio['return']\n",
    "    \n",
    "    random_risks.append(risk)\n",
    "    random_returns.append(portfolio_return)"
   ]
  },
  {
   "cell_type": "code",
   "execution_count": 53,
   "id": "0d562485",
   "metadata": {},
   "outputs": [
    {
     "data": {
      "text/plain": [
       "Text(0.5, 0, 'Risk (%)')"
      ]
     },
     "execution_count": 53,
     "metadata": {},
     "output_type": "execute_result"
    },
    {
     "data": {
      "image/png": "[encoded data removed]",
      "text/plain": [
       "<Figure size 640x480 with 1 Axes>"
      ]
     },
     "metadata": {},
     "output_type": "display_data"
    }
   ],
   "source": [
    "combos_weights, combos_risks, combos_returns = combine_portfolios_2(portfolio_2, portfolio_4, 0, 1, 0.01)\n",
    "\n",
    "plt.plot(combos_risks, combos_returns, 'black')\n",
    "plt.scatter(random_risks, random_returns)\n",
    "plt.scatter(portfolio_0['risk'], portfolio_0['return'])\n",
    "plt.scatter(portfolio_2['risk'], portfolio_2['return'])\n",
    "plt.scatter(portfolio_4['risk'], portfolio_4['return'])\n",
    "\n",
    "plt.legend([\"Efficient Frontier\",\n",
    "            \"Random Portfolios\",\n",
    "            \"Portfolio 0\" , \"Portfolio 2\", \"Portfolio 4\"],\n",
    "           loc = \"upper left\")\n",
    "\n",
    "plt.title('10k random portfolios')\n",
    "plt.ylabel('Yearly return (%)')\n",
    "plt.xlabel('Risk (%)')"
   ]
  },
  {
   "cell_type": "markdown",
   "id": "e126b98a",
   "metadata": {},
   "source": [
    "As we can see in the graph above, 10'000 random portfolios don't approximate the Efficient Frontier very well, in fact we can observe a big gap between the Efficient Frontier and the random portfolios.\n",
    "\n",
    "One of the reasons for this is because the portfolios in the Efficient Frontier allow for negative weights (i.e. shorting), while the random portfolios only have positive weights."
   ]
  },
  {
   "cell_type": "code",
   "execution_count": 54,
   "id": "2d08ac87",
   "metadata": {},
   "outputs": [],
   "source": [
    "def get_random_positive_negative_weights():\n",
    "    ''' \n",
    "    Creates random positive weights for each asset. Weights add-up to 1 (100%)\n",
    "        \n",
    "    Returns:\n",
    "    + weights: numpy array\n",
    "        n random weights that add up to 1\n",
    "    '''\n",
    "    weights = np.random.random_sample(size = n) # sum != 1\n",
    "    weights = (weights * 2) - 1 # from -1 to 1\n",
    "    weights = weights / weights.sum() # sum = 1\n",
    "   \n",
    "    return weights"
   ]
  },
  {
   "cell_type": "code",
   "execution_count": 55,
   "id": "164ec17a",
   "metadata": {},
   "outputs": [],
   "source": [
    "positive_negative_random_risks = []\n",
    "positive_negative_random_returns = []\n",
    "\n",
    "for i in range(10_000):    \n",
    "    portfolio = make_portfolio(get_random_positive_negative_weights())\n",
    "    risk = portfolio['risk']\n",
    "    portfolio_return = portfolio['return']\n",
    "    \n",
    "    positive_negative_random_risks.append(risk)\n",
    "    positive_negative_random_returns.append(portfolio_return)"
   ]
  },
  {
   "cell_type": "code",
   "execution_count": 56,
   "id": "d0da1c5e",
   "metadata": {
    "scrolled": false
   },
   "outputs": [
    {
     "data": {
      "text/plain": [
       "Text(0.5, 0, 'Risk (%)')"
      ]
     },
     "execution_count": 56,
     "metadata": {},
     "output_type": "execute_result"
    },
    {
     "data": {
      "image/png": "[encoded data removed]",
      "text/plain": [
       "<Figure size 640x480 with 1 Axes>"
      ]
     },
     "metadata": {},
     "output_type": "display_data"
    }
   ],
   "source": [
    "combos_weights, combos_risks, combos_returns = combine_portfolios_2(portfolio_2, portfolio_4, -500, 500, 0.2)\n",
    "\n",
    "# frontier\n",
    "plt.plot(combos_risks, combos_returns, 'black') \n",
    "\n",
    "# portfolios\n",
    "plt.scatter(positive_negative_random_risks, positive_negative_random_returns) # +/- random\n",
    "plt.scatter(random_risks, random_returns, c='orange') # + random\n",
    "\n",
    "plt.legend([\"Efficient Frontier\",\n",
    "            \"Rnd +/- Pfolios\", \"Rnd + Pfolios\"],\n",
    "           loc = \"best\")\n",
    "\n",
    "plt.title('10k random portfolios with negative weights allowed')\n",
    "plt.ylabel('Yearly return (%)')\n",
    "plt.xlabel('Risk (%)')"
   ]
  },
  {
   "cell_type": "markdown",
   "id": "89113319",
   "metadata": {},
   "source": [
    "Even with the restriction that weights must add-up to 1, random weights can generate very extreme portfolios. Let's zoom in."
   ]
  },
  {
   "cell_type": "code",
   "execution_count": 57,
   "id": "ddbce747",
   "metadata": {
    "scrolled": false
   },
   "outputs": [
    {
     "data": {
      "text/plain": [
       "Text(0.5, 0, 'Risk (%)')"
      ]
     },
     "execution_count": 57,
     "metadata": {},
     "output_type": "execute_result"
    },
    {
     "data": {
      "image/png": "[encoded data removed]",
      "text/plain": [
       "<Figure size 640x480 with 1 Axes>"
      ]
     },
     "metadata": {},
     "output_type": "display_data"
    }
   ],
   "source": [
    "combos_weights, combos_risks, combos_returns = combine_portfolios_2(portfolio_2, portfolio_4, 0, 2, 0.01)\n",
    "\n",
    "plt.plot(combos_risks, combos_returns, 'black')\n",
    "plt.scatter(positive_negative_random_risks, positive_negative_random_returns, c='pink')\n",
    "plt.scatter(random_risks, random_returns)\n",
    "plt.scatter(portfolio_0['risk'], portfolio_0['return'])\n",
    "plt.scatter(portfolio_2['risk'], portfolio_2['return'])\n",
    "plt.scatter(portfolio_4['risk'], portfolio_4['return'])\n",
    "\n",
    "plt.legend([\"Efficient Frontier\",\n",
    "            \"Rndm +/- Pfolios\", \"Random + Pfolios\",\n",
    "            \"Portfolio 0\" , \"Portfolio 2\", \"Portfolio 4\"],\n",
    "           loc = \"best\")\n",
    "\n",
    "plt.axis([0.97 * portfolio_2['risk'], 1.02 * portfolio_4['risk'],\n",
    "          0, 1.05 * portfolio_4['return']])\n",
    "\n",
    "plt.title('10k random portfolios with negative weights allowed')\n",
    "plt.ylabel('Yearly return (%)')\n",
    "plt.xlabel('Risk (%)')"
   ]
  },
  {
   "cell_type": "markdown",
   "id": "ebdfeeb7",
   "metadata": {},
   "source": [
    "With random weights allowed, we can see some points getting closer to the Efficient Frontier."
   ]
  },
  {
   "cell_type": "markdown",
   "id": "c6ec10d7",
   "metadata": {},
   "source": [
    "## 7. Non-shorting portfolios"
   ]
  },
  {
   "cell_type": "markdown",
   "id": "39ec97c8",
   "metadata": {},
   "source": [
    "It is not possible to find the non-shorting global-minimum-variance portfolio analytically, instead it has to be done numerically (by making guesses) using optimization algorithms (see https://bookdown.org/compfinezbook/introFinRbook/Portfolio-Theory-No-Shorts.html 13.3.2 remark 1). For that we will use scipy.optimize"
   ]
  },
  {
   "cell_type": "code",
   "execution_count": 58,
   "id": "35dca43c",
   "metadata": {},
   "outputs": [],
   "source": [
    "import scipy.optimize as sci_opt"
   ]
  },
  {
   "cell_type": "markdown",
   "id": "c34efa31",
   "metadata": {},
   "source": [
    "### 7.1. Portfolio 5: Highest return-risk ratio non-shorting portfolio"
   ]
  },
  {
   "cell_type": "code",
   "execution_count": 59,
   "id": "b58e01be",
   "metadata": {},
   "outputs": [],
   "source": [
    "# Adapted from https://github.com/areed1192/portfolio-optimization/blob/master/samples/portfolio_optimization.ipynb\n",
    "\n",
    "def check_weights(weights):\n",
    "    '''\n",
    "    Adds a set of weights then, to be used by sci_opt, substracts one.\n",
    "    \n",
    "    Returns:\n",
    "        0: The weights do add-up to one\n",
    "    not 0: The weights do not add-up to one\n",
    "    '''\n",
    "    return weights.sum() - 1"
   ]
  },
  {
   "cell_type": "code",
   "execution_count": 60,
   "id": "59054a4a",
   "metadata": {},
   "outputs": [],
   "source": [
    "def get_negative_return_risk_ratio(weights):\n",
    "    '''\n",
    "    Calculates the return-risk ratio from a given set of weights\n",
    "    Then, to be used by sci_opt, the value is multiplied by -1\n",
    "    \n",
    "    Returns:\n",
    "        The negative return-risk ratio\n",
    "    '''\n",
    "    portfolio_return = get_portfolio_return(weights)\n",
    "    portfolio_risk = get_portfolio_risk(weights)\n",
    "    return_risk_ratio = portfolio_return / portfolio_risk\n",
    "    \n",
    "    return return_risk_ratio * (-1)"
   ]
  },
  {
   "cell_type": "code",
   "execution_count": 61,
   "id": "727ff205",
   "metadata": {},
   "outputs": [],
   "source": [
    "# The initial guess weights can be even weights, random weights, or subjective weights.\n",
    "initial_guess = get_even_weights()\n",
    "\n",
    "# Considerations for the following guesses:\n",
    "# -------------------------\n",
    "# Each asset can have a weight between 0-1 (0%-100%)\n",
    "bounds = tuple((0, 1) for ticker in range(n))\n",
    "\n",
    "# Weights have to add-up to 100%\n",
    "constraints = ({'type': 'eq', # the function passed below has to *equal* 0\n",
    "                'fun': check_weights})"
   ]
  },
  {
   "cell_type": "code",
   "execution_count": 62,
   "id": "26ba3a02",
   "metadata": {},
   "outputs": [],
   "source": [
    "# Find weights for the non-shorting portfolio with the maximum risk-return ratio\n",
    "no_shorts_max_return_risk_ratio_report = sci_opt.minimize(\n",
    "                                            get_negative_return_risk_ratio, # minimizing the *negative* r-r ratio\n",
    "                                                                            # is like maximizing the r-r ratio\n",
    "                                            initial_guess,\n",
    "                                            method='SLSQP',\n",
    "                                            bounds=bounds,\n",
    "                                            constraints=constraints\n",
    "                                            )"
   ]
  },
  {
   "cell_type": "code",
   "execution_count": 63,
   "id": "41793aa9",
   "metadata": {},
   "outputs": [],
   "source": [
    "no_shorts_max_return_risk_ratio_weights = no_shorts_max_return_risk_ratio_report.x"
   ]
  },
  {
   "cell_type": "code",
   "execution_count": 64,
   "id": "fee98bdd",
   "metadata": {},
   "outputs": [
    {
     "name": "stdout",
     "output_type": "stream",
     "text": [
      "Portfolio 5\n",
      "Risk:\t21.68581608069912\n",
      "Return:\t26.43640780983482\n"
     ]
    },
    {
     "data": {
      "text/html": [
       "<div>\n",
       "<style scoped>\n",
       "    .dataframe tbody tr th:only-of-type {\n",
       "        vertical-align: middle;\n",
       "    }\n",
       "\n",
       "    .dataframe tbody tr th {\n",
       "        vertical-align: top;\n",
       "    }\n",
       "\n",
       "    .dataframe thead th {\n",
       "        text-align: right;\n",
       "    }\n",
       "</style>\n",
       "<table border=\"1\" class=\"dataframe\">\n",
       "  <thead>\n",
       "    <tr style=\"text-align: right;\">\n",
       "      <th></th>\n",
       "      <th>XOM</th>\n",
       "      <th>SHW</th>\n",
       "      <th>UPS</th>\n",
       "      <th>ED</th>\n",
       "      <th>JNJ</th>\n",
       "      <th>JPM</th>\n",
       "      <th>MCD</th>\n",
       "      <th>PG</th>\n",
       "      <th>MSFT</th>\n",
       "      <th>GOOG</th>\n",
       "      <th>SPG</th>\n",
       "    </tr>\n",
       "  </thead>\n",
       "  <tbody>\n",
       "    <tr>\n",
       "      <th>Weight</th>\n",
       "      <td>0.053679</td>\n",
       "      <td>0.0</td>\n",
       "      <td>0.0</td>\n",
       "      <td>0.0</td>\n",
       "      <td>6.247715e-17</td>\n",
       "      <td>3.174002e-17</td>\n",
       "      <td>0.091067</td>\n",
       "      <td>0.399729</td>\n",
       "      <td>0.455525</td>\n",
       "      <td>0.0</td>\n",
       "      <td>4.133521e-18</td>\n",
       "    </tr>\n",
       "  </tbody>\n",
       "</table>\n",
       "</div>"
      ],
      "text/plain": [
       "             XOM  SHW  UPS   ED           JNJ           JPM       MCD  \\\n",
       "Weight  0.053679  0.0  0.0  0.0  6.247715e-17  3.174002e-17  0.091067   \n",
       "\n",
       "              PG      MSFT  GOOG           SPG  \n",
       "Weight  0.399729  0.455525   0.0  4.133521e-18  "
      ]
     },
     "execution_count": 64,
     "metadata": {},
     "output_type": "execute_result"
    }
   ],
   "source": [
    "portfolio_5 = make_portfolio(no_shorts_max_return_risk_ratio_weights)\n",
    "print('Portfolio 5')\n",
    "print_portfolio(portfolio_5)"
   ]
  },
  {
   "cell_type": "markdown",
   "id": "d5340ea8",
   "metadata": {},
   "source": [
    "No negative weights."
   ]
  },
  {
   "cell_type": "markdown",
   "id": "b5a67bec",
   "metadata": {},
   "source": [
    "### 7.2. Portfolio 6: Minimum-risk non-shorting portfolio"
   ]
  },
  {
   "cell_type": "code",
   "execution_count": 65,
   "id": "d56e4d4a",
   "metadata": {},
   "outputs": [],
   "source": [
    "# Find weights for the minimum risk\n",
    "no_shorts_min_risk_report = sci_opt.minimize(\n",
    "                                get_portfolio_risk, #minimize this\n",
    "                                initial_guess,\n",
    "                                method='SLSQP',\n",
    "                                bounds=bounds,\n",
    "                                constraints=constraints\n",
    "                            )"
   ]
  },
  {
   "cell_type": "code",
   "execution_count": 66,
   "id": "24ec702d",
   "metadata": {},
   "outputs": [],
   "source": [
    "no_shorts_min_risk_weights = no_shorts_min_risk_report.x"
   ]
  },
  {
   "cell_type": "code",
   "execution_count": 67,
   "id": "66b4f122",
   "metadata": {
    "scrolled": true
   },
   "outputs": [
    {
     "name": "stdout",
     "output_type": "stream",
     "text": [
      "Portfolio 6\n",
      "Risk:\t17.188010621100318\n",
      "Return:\t15.01766541932947\n"
     ]
    },
    {
     "data": {
      "text/html": [
       "<div>\n",
       "<style scoped>\n",
       "    .dataframe tbody tr th:only-of-type {\n",
       "        vertical-align: middle;\n",
       "    }\n",
       "\n",
       "    .dataframe tbody tr th {\n",
       "        vertical-align: top;\n",
       "    }\n",
       "\n",
       "    .dataframe thead th {\n",
       "        text-align: right;\n",
       "    }\n",
       "</style>\n",
       "<table border=\"1\" class=\"dataframe\">\n",
       "  <thead>\n",
       "    <tr style=\"text-align: right;\">\n",
       "      <th></th>\n",
       "      <th>XOM</th>\n",
       "      <th>SHW</th>\n",
       "      <th>UPS</th>\n",
       "      <th>ED</th>\n",
       "      <th>JNJ</th>\n",
       "      <th>JPM</th>\n",
       "      <th>MCD</th>\n",
       "      <th>PG</th>\n",
       "      <th>MSFT</th>\n",
       "      <th>GOOG</th>\n",
       "      <th>SPG</th>\n",
       "    </tr>\n",
       "  </thead>\n",
       "  <tbody>\n",
       "    <tr>\n",
       "      <th>Weight</th>\n",
       "      <td>0.055234</td>\n",
       "      <td>1.896270e-16</td>\n",
       "      <td>0.063343</td>\n",
       "      <td>0.135667</td>\n",
       "      <td>0.334642</td>\n",
       "      <td>8.447351e-16</td>\n",
       "      <td>0.196277</td>\n",
       "      <td>0.172035</td>\n",
       "      <td>1.116212e-15</td>\n",
       "      <td>0.042802</td>\n",
       "      <td>0.0</td>\n",
       "    </tr>\n",
       "  </tbody>\n",
       "</table>\n",
       "</div>"
      ],
      "text/plain": [
       "             XOM           SHW       UPS        ED       JNJ           JPM  \\\n",
       "Weight  0.055234  1.896270e-16  0.063343  0.135667  0.334642  8.447351e-16   \n",
       "\n",
       "             MCD        PG          MSFT      GOOG  SPG  \n",
       "Weight  0.196277  0.172035  1.116212e-15  0.042802  0.0  "
      ]
     },
     "execution_count": 67,
     "metadata": {},
     "output_type": "execute_result"
    }
   ],
   "source": [
    "portfolio_6 = make_portfolio(no_shorts_min_risk_weights)\n",
    "print(\"Portfolio 6\")\n",
    "print_portfolio(portfolio_6)"
   ]
  },
  {
   "cell_type": "markdown",
   "id": "8b5fe57e",
   "metadata": {},
   "source": [
    "No negative weights"
   ]
  },
  {
   "cell_type": "code",
   "execution_count": 93,
   "id": "4c0ac2cb",
   "metadata": {},
   "outputs": [
    {
     "data": {
      "text/plain": [
       "Text(0.5, 0, 'Risk (%)')"
      ]
     },
     "execution_count": 93,
     "metadata": {},
     "output_type": "execute_result"
    },
    {
     "data": {
      "image/png": "[encoded data removed]",
      "text/plain": [
       "<Figure size 640x480 with 1 Axes>"
      ]
     },
     "metadata": {},
     "output_type": "display_data"
    }
   ],
   "source": [
    "combos_weights, combos_risks, combos_returns = combine_portfolios_2(portfolio_2, portfolio_4, 0, 1, 0.01)\n",
    "\n",
    "plt.plot(combos_risks, combos_returns, 'black')\n",
    "plt.scatter(random_risks, random_returns)\n",
    "#plt.scatter(portfolio_2['risk'], portfolio_2['return'])\n",
    "#plt.scatter(portfolio_4['risk'], portfolio_4['return'])\n",
    "plt.scatter(portfolio_5['risk'], portfolio_5['return'])\n",
    "plt.scatter(portfolio_6['risk'], portfolio_6['return'])\n",
    "\n",
    "plt.legend([\"Efficient Frontier\", \"Random (+) Portfolios\",\n",
    "#            \"Portfolio 2\", \"Portfolio 4\",\n",
    "           \"Portfolio 5\", \"Portfolio 6\"],\n",
    "           loc = \"upper left\")\n",
    "\n",
    "plt.title('Portfolios 5 and 6')\n",
    "plt.ylabel('Yearly return (%)')\n",
    "plt.xlabel('Risk (%)')"
   ]
  },
  {
   "cell_type": "markdown",
   "id": "995b2c8f",
   "metadata": {},
   "source": [
    "### 7.3. Drawing a frontier with Portfolios 5 and 6"
   ]
  },
  {
   "cell_type": "code",
   "execution_count": 94,
   "id": "dbfe1c1e",
   "metadata": {},
   "outputs": [],
   "source": [
    "five_six_frontier_weights, five_six_frontier_risks, five_six_frontier_returns = combine_portfolios_2(portfolio_5, portfolio_6, 0, 1, 0.01)"
   ]
  },
  {
   "cell_type": "code",
   "execution_count": 95,
   "id": "11fa94d0",
   "metadata": {},
   "outputs": [
    {
     "data": {
      "text/plain": [
       "Text(0.5, 0, 'Risk (%)')"
      ]
     },
     "execution_count": 95,
     "metadata": {},
     "output_type": "execute_result"
    },
    {
     "data": {
      "image/png": "[encoded data removed]",
      "text/plain": [
       "<Figure size 640x480 with 1 Axes>"
      ]
     },
     "metadata": {},
     "output_type": "display_data"
    }
   ],
   "source": [
    "# Frontiers\n",
    "plt.plot(combos_risks, combos_returns, 'black')\n",
    "plt.plot(five_six_frontier_risks, five_six_frontier_returns, 'red')\n",
    "\n",
    "# Points\n",
    "plt.scatter(random_risks, random_returns)\n",
    "plt.scatter(portfolio_5['risk'], portfolio_5['return'])\n",
    "plt.scatter(portfolio_6['risk'], portfolio_6['return'])\n",
    "\n",
    "# Legend\n",
    "plt.legend([\"Efficient Frontier\", \"Ports 5 & 6 frontier\",\n",
    "            \"Random (+) Portfolios\",\n",
    "           \"Portfolio 5\", \"Portfolio 6\"],\n",
    "           loc = \"upper left\")\n",
    "\n",
    "plt.title(\"Portfolios 5 and 6's frontier\")\n",
    "plt.ylabel('Yearly return (%)')\n",
    "plt.xlabel('Risk (%)')"
   ]
  },
  {
   "cell_type": "markdown",
   "id": "925e75a7",
   "metadata": {},
   "source": [
    "### Is this a valid non-shorting frontier?"
   ]
  },
  {
   "cell_type": "code",
   "execution_count": 71,
   "id": "73794fa6",
   "metadata": {
    "scrolled": true
   },
   "outputs": [
    {
     "name": "stdout",
     "output_type": "stream",
     "text": [
      "No negative weights found\n"
     ]
    }
   ],
   "source": [
    "# Check all weights of all combinations created to make the frontier\n",
    "# If a negative weight is found, then this is not a valid non-shorting frontier\n",
    "\n",
    "for weights_set in five_six_frontier_weights:\n",
    "    for weight in weights_set:\n",
    "        if weight < 0:\n",
    "            print('Negative weight found!')\n",
    "            break\n",
    "    else:\n",
    "        continue  # only executed if the inner loop did NOT break\n",
    "    break\n",
    "else:\n",
    "    print('No negative weights found')"
   ]
  },
  {
   "cell_type": "markdown",
   "id": "9e434be4",
   "metadata": {},
   "source": [
    "No negative weights were found, which makes sense since neither portfolio is given a negative proportion at any moment, and they both only have positive weights-sets. But if we go beyond either portfolio, we can generate negative weights."
   ]
  },
  {
   "cell_type": "markdown",
   "id": "fb7da9ba",
   "metadata": {},
   "source": [
    "### 7.4. Numerically finding multiple non-shorting minimum-risk points"
   ]
  },
  {
   "cell_type": "code",
   "execution_count": 72,
   "id": "8779ecba",
   "metadata": {},
   "outputs": [],
   "source": [
    "# Adapted from https://quantpy.com.au/python-for-finance/portfolio-optimisation/\n",
    "\n",
    "def optimize_risk(target_return):\n",
    "    '''\n",
    "    Numerically finds a porfolio that minimizes risk but keeps a target return\n",
    "    \n",
    "    Parameters:\n",
    "    + target_return: float\n",
    "        A target return to keep while reducing risk\n",
    "    \n",
    "    Returns:\n",
    "    + risk_optimized_weights: np.array\n",
    "        weights-set that maintain return but lower risk\n",
    "    '''\n",
    "    \n",
    "    def check_return(weights):\n",
    "        '''\n",
    "        Subtracts the return generated by a weights-set from\n",
    "        the target_return (target_return is one level up)\n",
    "        \n",
    "        Parameters:\n",
    "        + weights: np.array\n",
    "            The weights-set to calculate the portfolio return from\n",
    "        \n",
    "        Returns (for optimization purposes):\n",
    "            0: The returns are equal\n",
    "        not 0: The returns are not equal\n",
    "        '''\n",
    "        guess_return = get_portfolio_return(weights)     \n",
    "        return guess_return - target_return\n",
    "    \n",
    "    initial_guess = get_even_weights()\n",
    "    bounds = tuple((0, 1) for ticker in range(n)) # weights between 0 and 1\n",
    "    \n",
    "    # constraints\n",
    "    constraint_1 = {'type': 'eq', # sum_weights(w) has to equal 0\n",
    "                    'fun': check_weights\n",
    "                   }\n",
    "    constraint_2 = {'type': 'eq', # check_return(w) has to equal 0\n",
    "                    'fun': check_return\n",
    "                    #'fun': lambda w: portfolioReturn(w) - target_return\n",
    "                   }\n",
    "    constraints = ([constraint_1, constraint_2])\n",
    "    \n",
    "    # run optimizer\n",
    "    optimizer_report = sci_opt.minimize(\n",
    "                            get_portfolio_risk,\n",
    "                            initial_guess,\n",
    "                            method='SLSQP',\n",
    "                            bounds=bounds,\n",
    "                            constraints=constraints\n",
    "                        )\n",
    "\n",
    "    risk_optimized_weights = optimizer_report.x\n",
    "    \n",
    "    return risk_optimized_weights"
   ]
  },
  {
   "cell_type": "code",
   "execution_count": 73,
   "id": "fa212658",
   "metadata": {},
   "outputs": [],
   "source": [
    "target_returns = np.linspace(portfolio_6['return'], portfolio_5['return'], 200)\n",
    "\n",
    "optm_risks = []\n",
    "optm_returns = []\n",
    "optm_weights = []\n",
    "\n",
    "for target_return in target_returns:\n",
    "    risk_optimized_weights = optimize_risk(target_return)\n",
    "    \n",
    "    portfolio_return = get_portfolio_return(risk_optimized_weights)\n",
    "    risk = get_portfolio_risk(risk_optimized_weights)\n",
    "    \n",
    "    optm_weights.append(risk_optimized_weights)\n",
    "    optm_risks.append(risk)\n",
    "    optm_returns.append(target_return)"
   ]
  },
  {
   "cell_type": "code",
   "execution_count": 85,
   "id": "5104bff7",
   "metadata": {},
   "outputs": [
    {
     "data": {
      "text/plain": [
       "Text(0.5, 0, 'Risk (%)')"
      ]
     },
     "execution_count": 85,
     "metadata": {},
     "output_type": "execute_result"
    },
    {
     "data": {
      "image/png": "[encoded data removed]",
      "text/plain": [
       "<Figure size 640x480 with 1 Axes>"
      ]
     },
     "metadata": {},
     "output_type": "display_data"
    }
   ],
   "source": [
    "combos_weights, combos_risks, combos_returns = combine_portfolios_2(portfolio_1, portfolio_2, 0, 4.2, 0.01)\n",
    "\n",
    "# Frontiers\n",
    "plt.plot(combos_risks, combos_returns, c='black') # efficient frontier\n",
    "plt.plot(five_six_frontier_risks, five_six_frontier_returns, c='red') # 5&6 frontier\n",
    "\n",
    "# Points\n",
    "plt.plot(optm_risks, optm_returns) # numerically optimized min-risk points\n",
    "plt.scatter(portfolio_5['risk'], portfolio_5['return'])\n",
    "plt.scatter(portfolio_6['risk'], portfolio_6['return'])\n",
    "\n",
    "# Legend\n",
    "plt.legend([\"Efficient Frontier\", \"Ports 5 & 6 frontier\",\n",
    "            \"Optimized points\",\n",
    "           \"Portfolio 5\", \"Portfolio 6\"],\n",
    "           loc = \"upper left\")\n",
    "\n",
    "plt.title(\"Optimized points\")\n",
    "plt.ylabel('Yearly return (%)')\n",
    "plt.xlabel('Risk (%)')"
   ]
  },
  {
   "cell_type": "markdown",
   "id": "ad317e12",
   "metadata": {},
   "source": [
    "Turns out that the frontier made by combining portfolios 5 and 6 is NOT a true frontier for minimum-risk non-shorting portfolios."
   ]
  },
  {
   "cell_type": "markdown",
   "id": "b63c24ec",
   "metadata": {},
   "source": [
    "### 7.5. CAL optimization for non-shorting portfolios"
   ]
  },
  {
   "cell_type": "markdown",
   "id": "f870f9c1",
   "metadata": {},
   "source": [
    "A new Market Line can be drawn with Portfolio 5 to see how returns can be optimized by investing in the risk-free asset."
   ]
  },
  {
   "cell_type": "code",
   "execution_count": 76,
   "id": "49267787",
   "metadata": {},
   "outputs": [],
   "source": [
    "cal_risks = [0, portfolio_5['risk']]\n",
    "cal_returns = [expected_risk_free_return, portfolio_5['return']]"
   ]
  },
  {
   "cell_type": "code",
   "execution_count": 77,
   "id": "6ef9b0b7",
   "metadata": {},
   "outputs": [
    {
     "name": "stdout",
     "output_type": "stream",
     "text": [
      "With the following capital allocations:\n",
      "Market portfolio:\t79.25999999999999 %\n",
      "Risk-free asset:\t20.74 %\n",
      "Risk is kept at:\t17.19 %\n",
      "New return:\t\t21.27 %\n"
     ]
    }
   ],
   "source": [
    "return_opt_risk, return_opt_return = cal_return_optimize(portfolio_6['risk'], portfolio_5)"
   ]
  },
  {
   "cell_type": "code",
   "execution_count": 78,
   "id": "8fac6b89",
   "metadata": {},
   "outputs": [
    {
     "name": "stdout",
     "output_type": "stream",
     "text": [
      "With the following capital allocations:\n",
      "Market portfolio:\t54.16 %\n",
      "Risk-free asset:\t45.839999999999996 %\n",
      "New risk:\t\t11.75 %\n",
      "Return stays at:\t15.02 %\n"
     ]
    }
   ],
   "source": [
    "risk_opt_risk, risk_opt_return = cal_risk_optimize(portfolio_6['return'], portfolio_5)"
   ]
  },
  {
   "cell_type": "code",
   "execution_count": 96,
   "id": "8c50165c",
   "metadata": {},
   "outputs": [
    {
     "data": {
      "text/plain": [
       "Text(0.5, 0, 'Risk (%)')"
      ]
     },
     "execution_count": 96,
     "metadata": {},
     "output_type": "execute_result"
    },
    {
     "data": {
      "image/png": "[encoded data removed]",
      "text/plain": [
       "<Figure size 640x480 with 1 Axes>"
      ]
     },
     "metadata": {},
     "output_type": "display_data"
    }
   ],
   "source": [
    "# Frontiers\n",
    "plt.plot(optm_risks, optm_returns)\n",
    "\n",
    "# Line\n",
    "plt.plot(cal_risks, cal_returns)\n",
    "\n",
    "# Points\n",
    "plt.scatter(portfolio_5['risk'], portfolio_5['return'])\n",
    "plt.scatter(portfolio_6['risk'], portfolio_6['return'])\n",
    "plt.scatter(return_opt_risk, return_opt_return)\n",
    "plt.scatter(risk_opt_risk, risk_opt_return)\n",
    "\n",
    "# Legend\n",
    "plt.legend([\"Ports 5 & 6 frontier\", \"Market Line\",\n",
    "           \"Portfolio 5\", \"Portfolio 6\",\n",
    "           \"Return optimization\", \"Risk minimization\"\n",
    "           ],\n",
    "           loc = \"upper left\")\n",
    "\n",
    "plt.axhline(portfolio_6['return'], color='black', linewidth=.5)\n",
    "plt.axvline(portfolio_6['risk'], color='black', linewidth=.5)\n",
    "\n",
    "plt.title(\"Non-shorting portfolios CAL optimization\")\n",
    "plt.ylabel('Yearly return (%)')\n",
    "plt.xlabel('Risk (%)')"
   ]
  }
 ],
 "metadata": {
  "kernelspec": {
   "display_name": "Python 3",
   "language": "python",
   "name": "python3"
  },
  "language_info": {
   "codemirror_mode": {
    "name": "ipython",
    "version": 3
   },
   "file_extension": ".py",
   "mimetype": "text/x-python",
   "name": "python",
   "nbconvert_exporter": "python",
   "pygments_lexer": "ipython3",
   "version": "3.9.13"
  }
 },
 "nbformat": 4,
 "nbformat_minor": 5
}
